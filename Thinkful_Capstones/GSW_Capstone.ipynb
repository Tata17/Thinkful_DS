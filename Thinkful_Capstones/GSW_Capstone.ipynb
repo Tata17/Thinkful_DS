{
 "cells": [
  {
   "cell_type": "markdown",
   "metadata": {},
   "source": [
    "## Table of Content\n",
    "\n",
    "* [Introduction](#Intro)\n",
    "* [Data Overview](#DataOverview)\n",
    "* [Libraries](#Libraries)\n",
    "* [Metadata Exploration](#MetaExplore)\n",
    "* [Data Visualization and Cleaning](#DataClean)\n",
    "* [Data Exploration, Question, and Answers](#Dataexplore)\n",
    "* [Questions](#Questions)\n",
    "* [Exploration](#Explore)\n",
    "* [Answers](#Answers)\n",
    "* [Proposed Further Research](#WhatFurther)\n",
    "\n",
    "\n",
    "\n",
    "\n",
    "\n"
   ]
  },
  {
   "cell_type": "markdown",
   "metadata": {},
   "source": [
    "<a id='Intro'></a>\n",
    "# <center> Global Surface Water Transitional Changes</center>\n",
    "\n",
    "## <center>Introduction</center>\n",
    "<p style=\"font-family:times\">\n",
    "    \n",
    "Global surface water is the most accessible water source for primary use and consumption by humans. Environmental and anthropogenic disturbances are reshaping the world’s water distribution; semi-arid to arid regions are facing imminent surface water scarcity and are increasingly more dependant on finding access to ground water.\n",
    "\n",
    "Fluctuation of surface water, such as permanent water loss or land being permanently covered by water where never before, can have devastating effects on climate, ecological niches, and human wellbeing. Having access to a global surface water dataset with high temporal and medium spatial resolution is key to continue learning, monitoring , and planing for the future.\n",
    "\n",
    "The European Commission’s Join Research Center developed a global surface water app , it allows access to data, background information, and data exploration tools. The 2016 Nature publication that thorougly analyzed this dataset (cited below), inspired me to dive in and further explore the topic of “Water Availability”, to name it hollisticaly.\n",
    "\n",
    "App: https://global-surface-water.appspot.com/#\n",
    "Paper : https://www.nature.com/articles/nature20584.epdf?author_access_token=C5JSvooRop4jWxyp_qRPLNRgN0jAjWel9jnR3ZoTv0MqBuzCNsmw_DFxRd7sX93nfPzcbm_xTiPLlZMl7XrUhadm6EiT9cGdDNgn1s6EWrPWH3IeadLUjApplBoaS6xH\n",
    "Paper citation : Paper: Jean-Francois Pekel, Andrew Cottam, Noel Gorelick, Alan S. Belward, High-resolution mapping of global surface water and its long-term changes. Nature 540, 418-422 (2016). (doi:10.1038/nature20584)\n",
    "</p>"
   ]
  },
  {
   "cell_type": "markdown",
   "metadata": {},
   "source": [
    "<a id='DataOverview'></a>\n",
    "## <center>Data Overview</center>\n",
    "<p style=\"font-family:times\">\n",
    "    \n",
    "The Global Surface Water is an open source dataset made available by the Copernicus Programme. Derived through remote sensing by the Landsat satellites, these raster files have a 30m resolution, and emcompass a data collection of 32 years, 1984-2015. The data is available here https://global-surface-water.appspot.com/download, as a world wide 10 degree grid as as a TIFF file format, used for raster (pixel base) data. \n",
    "\n",
    "The dataset maps different stages of surface water such as ocurrence, change, seasonality, recurrence, transition and maximum extent. Due to time constraints, in this exploratory analysis I only looked at Transition. Transition represents the change observed in the last two years of data collection compared to what the water values were the first time they were collected. This data does not tell what happened in the time in between, but referring back to the methodology on how these values are calculated, a lot of care was put into making sure values of transition that happened by chance were not reported. \n",
    "\n",
    "I chose this dataset aiming to identify where potentially major and long term changes might be occurring. As an analyst, I try to identify overall trends, places of interest, and use this information to further narrow down my research. The Transition data categorizes the water changes into ten values, each data variable provides different information and they all will be explored throughout this analysis.In adition, I randomly chose four Areas of Interest (AOIs) from different parts of the world: Lake Mead, Lake Hamun, Alpine Lakes, and Tibetan Lakes.\n",
    "\n",
    "</p>"
   ]
  },
  {
   "cell_type": "markdown",
   "metadata": {},
   "source": [
    "<a id='Libraries'></a>\n",
    "## <center>Libraries</center>\n",
    "Satellite image processing using Python!\n"
   ]
  },
  {
   "cell_type": "code",
   "execution_count": 1,
   "metadata": {},
   "outputs": [],
   "source": [
    "# Read imagery \n",
    "import os\n",
    "from osgeo import gdal\n",
    "import rasterio as rio\n",
    "\n",
    "# Visualize\n",
    "import geopandas as gpd\n",
    "from rasterio import plot\n",
    "from rasterio.plot import show\n",
    "import matplotlib.pyplot as plt\n",
    "#from IPython.display import HTML, display\n",
    "#import tabulate\n",
    "%matplotlib inline\n",
    "\n",
    "# Stats and Analysis\n",
    "import numpy as np\n",
    "import pandas as pd\n",
    "from scipy import stats\n",
    "\n"
   ]
  },
  {
   "cell_type": "markdown",
   "metadata": {},
   "source": [
    "<a id='MetaExplore'></a>\n",
    "## <center>Metadata Exploration</center>\n",
    "\n",
    "Open raster files with Rasterio to access its metadata. The metadata provides information about the properties of the files used at different stages of the manipulation and analysis. Rasterio is python based and a GDAL wraper, commonly used for processing raster files from different formats such as TIFF, GeoTIFF, among some.\n"
   ]
  },
  {
   "cell_type": "code",
   "execution_count": 4,
   "metadata": {},
   "outputs": [],
   "source": [
    "# Open imagery with rasterio\n",
    "\n",
    "LakesTibet = rio.open(\"/Users/nataliaagudelo/Desktop/Capstone1/DataSet/transitions_HighElevLakesTibet_80E_40N.tif\")\n",
    "LakeHamoun = rio.open (\"/Users/nataliaagudelo/Desktop/Capstone1/DataSet/transitions_LakeHamoun_60E_40N.tif\")\n",
    "AlpineLakes = rio.open (\"/Users/nataliaagudelo/Desktop/Capstone1/DataSet/transitions_AlpenineLakes_b_0E_50N.tif\")\n",
    "LakeMead = rio.open (\"/Users/nataliaagudelo/Desktop/Capstone1/DataSet/transitions_LakeMead_120W_40N.tif\")"
   ]
  },
  {
   "cell_type": "code",
   "execution_count": 5,
   "metadata": {},
   "outputs": [
    {
     "data": {
      "text/plain": [
       "rasterio.io.DatasetReader"
      ]
     },
     "execution_count": 5,
     "metadata": {},
     "output_type": "execute_result"
    }
   ],
   "source": [
    "# raster variable is either a rasterio._io.RasterReader \n",
    "# Or numpy.ndarray, depends on the file was open and read\n",
    "type(LakesTibet)"
   ]
  },
  {
   "cell_type": "code",
   "execution_count": 6,
   "metadata": {},
   "outputs": [
    {
     "data": {
      "text/plain": [
       "1"
      ]
     },
     "execution_count": 6,
     "metadata": {},
     "output_type": "execute_result"
    }
   ],
   "source": [
    "# Number of bands (input any of the images)\n",
    "LakesTibet.count"
   ]
  },
  {
   "cell_type": "code",
   "execution_count": 7,
   "metadata": {},
   "outputs": [
    {
     "data": {
      "text/plain": [
       "(40000, 40000)"
      ]
     },
     "execution_count": 7,
     "metadata": {},
     "output_type": "execute_result"
    }
   ],
   "source": [
    "# get number of rows and columns (input any of the images)\n",
    "LakesTibet.shape"
   ]
  },
  {
   "cell_type": "code",
   "execution_count": 8,
   "metadata": {},
   "outputs": [
    {
     "data": {
      "text/plain": [
       "('uint8',)"
      ]
     },
     "execution_count": 8,
     "metadata": {},
     "output_type": "execute_result"
    }
   ],
   "source": [
    "# Check for the bit integer values of each pixel\n",
    "# Some times the bit number influences the data stats\n",
    "LakesTibet.dtypes"
   ]
  },
  {
   "cell_type": "code",
   "execution_count": 9,
   "metadata": {},
   "outputs": [
    {
     "data": {
      "text/plain": [
       "BoundingBox(left=80.0, bottom=30.0, right=90.0, top=40.0)"
      ]
     },
     "execution_count": 9,
     "metadata": {},
     "output_type": "execute_result"
    }
   ],
   "source": [
    "# Bound of the file\n",
    "LakesTibet.bounds"
   ]
  },
  {
   "cell_type": "code",
   "execution_count": 10,
   "metadata": {},
   "outputs": [
    {
     "data": {
      "text/plain": [
       "Affine(0.00025, 0.0, 80.0,\n",
       "       0.0, -0.00025, 40.0)"
      ]
     },
     "execution_count": 10,
     "metadata": {},
     "output_type": "execute_result"
    }
   ],
   "source": [
    "# bounding box fundamental attribute\n",
    "# The product of this matrix and (0, 0), is the spatial position of the upper left corner\n",
    "# The product of this matrix and (width, height), is the lower right corner\n",
    "LakesTibet.transform"
   ]
  },
  {
   "cell_type": "code",
   "execution_count": 11,
   "metadata": {},
   "outputs": [
    {
     "data": {
      "text/plain": [
       "CRS.from_dict(init='epsg:4326')"
      ]
     },
     "execution_count": 11,
     "metadata": {},
     "output_type": "execute_result"
    }
   ],
   "source": [
    "# Look up the projection\n",
    "LakesTibet.crs"
   ]
  },
  {
   "cell_type": "code",
   "execution_count": 12,
   "metadata": {},
   "outputs": [
    {
     "data": {
      "text/plain": [
       "'GTiff'"
      ]
     },
     "execution_count": 12,
     "metadata": {},
     "output_type": "execute_result"
    }
   ],
   "source": [
    "# Data format\n",
    "LakesTibet.driver"
   ]
  },
  {
   "cell_type": "code",
   "execution_count": 13,
   "metadata": {},
   "outputs": [
    {
     "data": {
      "text/plain": [
       "(None,)"
      ]
     },
     "execution_count": 13,
     "metadata": {},
     "output_type": "execute_result"
    }
   ],
   "source": [
    "# No data Values show or read as\n",
    "# Crucial for file manipulation and stats, sometimes reads as Nan or zeros\n",
    "LakesTibet.nodatavals"
   ]
  },
  {
   "cell_type": "code",
   "execution_count": 14,
   "metadata": {},
   "outputs": [
    {
     "data": {
      "text/plain": [
       "{'driver': 'GTiff',\n",
       " 'dtype': 'uint8',\n",
       " 'nodata': None,\n",
       " 'width': 40000,\n",
       " 'height': 40000,\n",
       " 'count': 1,\n",
       " 'crs': CRS.from_dict(init='epsg:4326'),\n",
       " 'transform': Affine(0.00025, 0.0, 80.0,\n",
       "        0.0, -0.00025, 40.0)}"
      ]
     },
     "execution_count": 14,
     "metadata": {},
     "output_type": "execute_result"
    }
   ],
   "source": [
    "# Metadata for the file\n",
    "LakesTibet.meta"
   ]
  },
  {
   "cell_type": "code",
   "execution_count": 15,
   "metadata": {},
   "outputs": [
    {
     "data": {
      "text/plain": [
       "'r'"
      ]
     },
     "execution_count": 15,
     "metadata": {},
     "output_type": "execute_result"
    }
   ],
   "source": [
    "LakesTibet.mode"
   ]
  },
  {
   "cell_type": "code",
   "execution_count": 16,
   "metadata": {},
   "outputs": [
    {
     "data": {
      "text/plain": [
       "False"
      ]
     },
     "execution_count": 16,
     "metadata": {},
     "output_type": "execute_result"
    }
   ],
   "source": [
    "LakesTibet.closed"
   ]
  },
  {
   "cell_type": "markdown",
   "metadata": {},
   "source": [
    "<a id='DataClean'></a>\n",
    "\n",
    "## <center>Data Visualization and Cleaning</center>\n",
    "\n",
    "<p style=\"font-family:times\">\n",
    "    \n",
    "As observed in the metadata, the original files are in a rasterio dataread format, with dimensions of 40000*40000 pixels, and the nonvalues pixels read as None. Read the rasters with Rasterio to convert them into a 2D Numpy array for manipulation. Each pixel can be thought of as an equivalent to a cell in a spreadsheet.\n",
    "</p>\n",
    "    \n",
    "<p style=\"font-family:times\">\n",
    "    \n",
    "The AOIs areas, Lake Mead, Lake Hamoun, Alpine Lakes, and Tibetan Lakes, are very small compare to the original data size. Therefore, its necessary to zoom in into each lake to visualize them, and mute pixels with zero and nonvalues in order to run statistics. \n",
    "</p>    \n",
    "    \n",
    "<p style=\"font-family:times\">\n",
    "    \n",
    "As previously stated, the Transitional data values are discrete and range from 1-10 as observed in the table below. They indicate, unchanging permanent water surfaces;  new permanent water surfaces (conversion of land into permanent water); lost permanent water surfaces (conversion of permanent water into land); unchanging seasonal water surfaces; new seasonal water surfaces (conversion of land into seasonal water); lost seasonal water surfaces (conversion of a seasonal water into land); conversion of permanent water into seasonal water; and the conversion of seasonal water into permanent water.\n",
    "\n",
    "An important note to keep in mind is that the No Water values, zero,  do not indicate water loss, they indicate pixels over land that never represented water throughout this study.\n",
    "</p>\n",
    "\n",
    "<center>The Transitions Dataset Legend</center>\n",
    "\n",
    "| Symbology |    |\n",
    "|------|------|\n",
    "|   No Water: 0\n",
    "    Permanent:\t 1\n",
    "    New permanent:\t 2\n",
    "    Lost permanent:\t 3\n",
    "    Seasonal:\t     4\n",
    "    New seasonal:\t 5\n",
    "    Lost seasonal:\t 6\n",
    "    Seasonal to permanent:\t7\n",
    "    Permanent to seasonal:\t8\n",
    "    Ephemeral permanent:\t9\n",
    "    Ephemeral seasonal:\t10\n",
    "    No data: 255\n"
   ]
  },
  {
   "cell_type": "code",
   "execution_count": 17,
   "metadata": {},
   "outputs": [],
   "source": [
    "# Open imagery to convert into a numpy array, visualize and manipulate.\n",
    "with rio.open(\"/Users/nataliaagudelo/Desktop/Capstone1/DataSet/transitions_HighElevLakesTibet_80E_40N.tif\") as LakesTibet:\n",
    "    LakesTibet_data = LakesTibet.read(1)   \n",
    "with rio.open (\"/Users/nataliaagudelo/Desktop/Capstone1/DataSet/transitions_LakeHamoun_60E_40N.tif\") as LakeHamoun:\n",
    "    LakeHamoun_data = LakeHamoun.read(1)   \n",
    "with rio.open (\"/Users/nataliaagudelo/Desktop/Capstone1/DataSet/transitions_AlpenineLakes_b_0E_50N.tif\") as AlpineLakes:\n",
    "    AlpineLakes_data = AlpineLakes.read(1)   \n",
    "with rio.open (\"/Users/nataliaagudelo/Desktop/Capstone1/DataSet/transitions_LakeMead_120W_40N.tif\") as LakeMead:\n",
    "    LakeMead_data = LakeMead.read(1)"
   ]
  },
  {
   "cell_type": "code",
   "execution_count": 19,
   "metadata": {},
   "outputs": [
    {
     "data": {
      "text/plain": [
       "numpy.ndarray"
      ]
     },
     "execution_count": 19,
     "metadata": {},
     "output_type": "execute_result"
    }
   ],
   "source": [
    "# Data converted to an numpy array\n",
    "type(LakesTibet_data)"
   ]
  },
  {
   "cell_type": "markdown",
   "metadata": {},
   "source": [
    "The original data is from a 10 degree grid cell, the high amount of pixels with zero and nonvalues<br> make the areas of interest very difficult to visualize, as seen bellow.<br>\n",
    "The Alpine lakes chosen for this study are located on the East Center of the original dataset.<br>\n",
    "Lake Hamoun is at the South West corner<br>\n",
    "Lame Mead is right at the center of the image<br>\n",
    "And the Alpine Lakes are a series of small bodies of water disperse througout almost the entire original image\n"
   ]
  },
  {
   "cell_type": "code",
   "execution_count": 23,
   "metadata": {},
   "outputs": [
    {
     "data": {
      "image/png": "[encoded data removed]",
      "text/plain": [
       "<Figure size 1584x1152 with 8 Axes>"
      ]
     },
     "metadata": {
      "needs_background": "light"
     },
     "output_type": "display_data"
    }
   ],
   "source": [
    "# Set figure size\n",
    "fig = plt.subplots(2,2, figsize=(22,16))\n",
    "\n",
    "\n",
    "# Position, title & plot of each band\n",
    "plt.subplot(221), plt.imshow(AlpineLakes_data, cmap='Set3'),plt.title(\"Alpine Lakes\"),plt.colorbar()\n",
    "plt.subplot(222), plt.imshow(LakeHamoun_data,cmap='Set3'), plt.title(\"Lake Hamoun\"), plt.colorbar()\n",
    "plt.subplot(223), plt.imshow(LakeMead_data, cmap='Set3'), plt.title(\"Lake Mead\"),plt.colorbar()\n",
    "plt.subplot(224), plt.imshow(LakesTibet_data, cmap='Set3'), plt.title(\"Tibet Lakes\"), plt.colorbar()\n",
    "plt.subplots_adjust(bottom=0.6, right=0.6, top=0.9, wspace = 0.05, hspace = 0.3)\n",
    "\n",
    "plt.show()"
   ]
  },
  {
   "cell_type": "markdown",
   "metadata": {},
   "source": [
    "\n",
    "In order to zoom in into each lake the following is needed:\n",
    "Need to convert the datatype from unit8 to float32<br>\n",
    "Need to change  the no-data values of \"0\" to NaN<br>\n",
    "Be aware the array with NaNs will take 2x the storage space \n",
    "\n"
   ]
  },
  {
   "cell_type": "code",
   "execution_count": 24,
   "metadata": {},
   "outputs": [],
   "source": [
    "# convert the datatype from uint16 to float32\n",
    "# Change no-data value set to \"0\" to NaN\n",
    "LakesTibet_data = LakesTibet_data.astype('f4')\n",
    "LakesTibet_data[LakesTibet_data==0] = np.nan\n",
    "LakeHamoun_data = LakeHamoun_data.astype('f4')\n",
    "LakeHamoun_data[LakeHamoun_data==0] = np.nan\n",
    "AlpineLakes_data = AlpineLakes_data.astype('f4')\n",
    "AlpineLakes_data[AlpineLakes_data==0] = np.nan\n",
    "LakeMead_data = LakeMead_data.astype('f4')\n",
    "LakeMead_data[LakeMead_data==0] = np.nan\n",
    "    "
   ]
  },
  {
   "cell_type": "code",
   "execution_count": 25,
   "metadata": {},
   "outputs": [
    {
     "data": {
      "text/plain": [
       "numpy.ndarray"
      ]
     },
     "execution_count": 25,
     "metadata": {},
     "output_type": "execute_result"
    }
   ],
   "source": [
    "type(LakesTibet_data)"
   ]
  },
  {
   "cell_type": "markdown",
   "metadata": {},
   "source": [
    "\n",
    "Slicing original data into areas of interest<br>\n",
    "The arguments take the Y axis values first, followed by the X axis values, [Ymax:Ymin, Xmin:Xmax]<br>\n"
   ]
  },
  {
   "cell_type": "code",
   "execution_count": 27,
   "metadata": {},
   "outputs": [],
   "source": [
    "# Slice data original dataset [Ymax:Ymin, Xmin:Xmax]\n",
    "LakesTibet_data = LakesTibet_data[15000:40000, 0:40000]\n",
    "LakeHamoun_data = LakeHamoun_data[33500:38500, 3800:8500]\n",
    "AlpineLakes_data = AlpineLakes_data[15000:17000, 33200:38000]\n",
    "LakeMead_data = LakeMead_data[13800:16000, 20500:25000]\n"
   ]
  },
  {
   "cell_type": "code",
   "execution_count": 29,
   "metadata": {},
   "outputs": [
    {
     "data": {
      "text/plain": [
       "array([[nan, nan, nan, ..., nan, nan, nan],\n",
       "       [nan, nan, nan, ..., nan, nan, nan],\n",
       "       [nan, nan, nan, ..., nan, nan, nan],\n",
       "       ...,\n",
       "       [nan, nan, nan, ..., nan, nan, nan],\n",
       "       [nan, nan, nan, ..., nan, nan, nan],\n",
       "       [nan, nan, nan, ..., nan, nan, nan]], dtype=float32)"
      ]
     },
     "execution_count": 29,
     "metadata": {},
     "output_type": "execute_result"
    }
   ],
   "source": [
    "# Zero values replaced by nan\n",
    "LakeMead_data"
   ]
  },
  {
   "cell_type": "markdown",
   "metadata": {},
   "source": [
    "\n",
    "Finally, lets take a look at the lakes!\n"
   ]
  },
  {
   "cell_type": "code",
   "execution_count": 26,
   "metadata": {},
   "outputs": [
    {
     "data": {
      "image/png": "[encoded data removed]",
      "text/plain": [
       "<Figure size 1584x1152 with 8 Axes>"
      ]
     },
     "metadata": {
      "needs_background": "light"
     },
     "output_type": "display_data"
    }
   ],
   "source": [
    "# Set figure size\n",
    "fig = plt.subplots(2,2, figsize=(22,16))\n",
    "\n",
    "# Position, title & plot of each band\n",
    "plt.subplot(221), plt.imshow(AlpineLakes_data, cmap='Set3'),plt.title(\"Alpine Lakes\"),plt.colorbar()\n",
    "plt.subplot(222), plt.imshow(LakeHamoun_data,cmap='Set3'), plt.title(\"Lake Hamoun\"), plt.colorbar()\n",
    "plt.subplot(223), plt.imshow(LakeMead_data, cmap='Set3'), plt.title(\"Lake Mead\"),plt.colorbar()\n",
    "plt.subplot(224), plt.imshow(LakesTibet_data, cmap='Set3'), plt.title(\"Tibet Lakes\"), plt.colorbar()\n",
    "plt.subplots_adjust(bottom=0.6, right=0.6, top=0.9, wspace = 0.05, hspace = 0.3)\n",
    "plt.show()"
   ]
  },
  {
   "cell_type": "code",
   "execution_count": 30,
   "metadata": {},
   "outputs": [
    {
     "data": {
      "text/plain": [
       "array([[nan, nan, nan, ..., nan, nan, nan],\n",
       "       [nan, nan, nan, ..., nan, nan, nan],\n",
       "       [nan, nan, nan, ..., nan, nan, nan],\n",
       "       ...,\n",
       "       [nan, nan, nan, ..., nan, nan, nan],\n",
       "       [nan, nan, nan, ..., nan, nan, nan],\n",
       "       [nan, nan, nan, ..., nan, nan, nan]], dtype=float32)"
      ]
     },
     "execution_count": 30,
     "metadata": {},
     "output_type": "execute_result"
    }
   ],
   "source": [
    "LakesTibet_data"
   ]
  },
  {
   "cell_type": "markdown",
   "metadata": {},
   "source": [
    "Lets take our zeros back and convert the data into integers<br>\n",
    "to facilitate running some statistics."
   ]
  },
  {
   "cell_type": "code",
   "execution_count": 31,
   "metadata": {},
   "outputs": [],
   "source": [
    "# Replace NaN with zero and infinity with large finite numbers.\n",
    "# Undo the all \"0\" into NaN values used previously\n",
    "LakesTibet_data = np.nan_to_num(LakesTibet_data)\n",
    "LakeHamoun_data = np.nan_to_num(LakeHamoun_data)\n",
    "AlpineLakes_data = np.nan_to_num(AlpineLakes_data)\n",
    "LakeMead_data = np.nan_to_num(LakeMead_data)"
   ]
  },
  {
   "cell_type": "code",
   "execution_count": 32,
   "metadata": {},
   "outputs": [
    {
     "data": {
      "text/plain": [
       "array([[0, 0, 0, ..., 0, 0, 0],\n",
       "       [0, 0, 0, ..., 0, 0, 0],\n",
       "       [0, 0, 0, ..., 0, 0, 0],\n",
       "       ...,\n",
       "       [0, 0, 0, ..., 0, 0, 0],\n",
       "       [0, 0, 0, ..., 0, 0, 0],\n",
       "       [0, 0, 0, ..., 0, 0, 0]])"
      ]
     },
     "execution_count": 32,
     "metadata": {},
     "output_type": "execute_result"
    }
   ],
   "source": [
    "# convert floats into int\n",
    "LakesTibet_data = LakesTibet_data.astype(int)\n",
    "LakeHamoun_data = LakeHamoun_data.astype(int)\n",
    "AlpineLakes_data = AlpineLakes_data.astype(int)\n",
    "LakeMead_data = LakeMead_data.astype(int)\n",
    "\n",
    "LakesTibet_data"
   ]
  },
  {
   "cell_type": "markdown",
   "metadata": {},
   "source": [
    "Continue cleaning the data in order to run statistics on pixel's values that depict only water.<br>\n",
    "Lets get rid of zeros which in this case indicate land and pixels with no data values, 255. <br>\n",
    "\n",
    "Be aware that keeping or leaving zeros as part of your data depends on the dataset and the question. "
   ]
  },
  {
   "cell_type": "code",
   "execution_count": 34,
   "metadata": {},
   "outputs": [],
   "source": [
    "# Get rid of zeros, needed in our case.\n",
    "LakesTibet_nozeros = LakesTibet_data[LakesTibet_data != 0]\n",
    "LakeHamoun_nozeros = LakeHamoun_data[LakeHamoun_data != 0]\n",
    "AlpineLakes_nozeros = AlpineLakes_data[AlpineLakes_data != 0]\n",
    "LakeMead_nozeros = LakeMead_data[LakeMead_data != 0]"
   ]
  },
  {
   "cell_type": "code",
   "execution_count": 35,
   "metadata": {},
   "outputs": [
    {
     "name": "stdout",
     "output_type": "stream",
     "text": [
      "1\n",
      "255\n"
     ]
    }
   ],
   "source": [
    "print (AlpineLakes_nozeros.min())\n",
    "print (AlpineLakes_nozeros.max())"
   ]
  },
  {
   "cell_type": "code",
   "execution_count": 36,
   "metadata": {},
   "outputs": [],
   "source": [
    "# Get ride of pixels with no values\n",
    "LakesTibet_final = LakesTibet_nozeros[LakesTibet_nozeros != 255]\n",
    "LakeHamoun_final = LakeHamoun_nozeros[LakeHamoun_nozeros != 255]\n",
    "AlpineLakes_final = AlpineLakes_nozeros[AlpineLakes_nozeros != 255]\n",
    "LakeMead_final = LakeMead_nozeros[LakeMead_nozeros != 255]\n"
   ]
  },
  {
   "cell_type": "code",
   "execution_count": 37,
   "metadata": {},
   "outputs": [
    {
     "name": "stdout",
     "output_type": "stream",
     "text": [
      "1\n",
      "10\n"
     ]
    }
   ],
   "source": [
    "print(AlpineLakes_final.min())\n",
    "print(AlpineLakes_final.max())"
   ]
  },
  {
   "cell_type": "code",
   "execution_count": 45,
   "metadata": {},
   "outputs": [
    {
     "data": {
      "text/plain": [
       "(array([6, 6, 6, ..., 5, 4, 4]),\n",
       " array([ 5,  5,  5, ..., 10, 10,  5]),\n",
       " array([6, 6, 4, ..., 1, 1, 6]),\n",
       " array([6, 6, 6, ..., 1, 1, 1]))"
      ]
     },
     "execution_count": 45,
     "metadata": {},
     "output_type": "execute_result"
    }
   ],
   "source": [
    "# Dataset composed of pixels with only water data\n",
    "subset_lakes = LakesTibet_final, LakeHamoun_final, AlpineLakes_final, LakeMead_final\n",
    "subset_lakes"
   ]
  },
  {
   "cell_type": "markdown",
   "metadata": {},
   "source": [
    "<a id='Dataexplore'></a>\n",
    "## <center>Data Exploration, Questions, and Answers</center>\n",
    "\n",
    "<a id='Questions'></a>\n",
    "\n",
    "\n",
    "### <center>Questions</center>\n",
    "\n",
    "\n",
    "<p style=\"font-family:times\">\n",
    "    \n",
    "Where is water running out? and Where is water not running out? are questions that I personally come across often as analyst. Although, they initially might seem simplistic compared to the complexity of the topic regarding water, they make sense at an initial stage of research when an individual is trying to get an overall idea of where there might be obvious signs of trouble or resilience.\n",
    "    \n",
    "Since it is my first time looking at this Surface Water dataset, I will follow the logic above and I will attempt to gain an overall insight regarding the current state of surface water compared to 32 years ago. Therefore, I would initially like to find out the following:\n",
    "\n",
    "\n",
    "1. Which AOI had the highest gain of water?<br />\n",
    "2. Which AOI had the highest loss of water?<br />\n",
    "3. Which AOIs had the highest and lowest transitional variation?\n",
    "\n",
    "\n",
    "With a clean dataset on hand in which all values represent only water, and the questions above in mind, I will explore the descriptive values, the central tendencies, and the distribution of the data. Keep in mind we are dealing with discrete values from 1-10.\n",
    "\n"
   ]
  },
  {
   "cell_type": "markdown",
   "metadata": {},
   "source": [
    "<a id='Explore'></a>\n",
    "### <center>Exploration</center>\n"
   ]
  },
  {
   "cell_type": "markdown",
   "metadata": {},
   "source": [
    "Firsts look at the distribution of the raw data for each AOI."
   ]
  },
  {
   "cell_type": "code",
   "execution_count": 23,
   "metadata": {},
   "outputs": [
    {
     "data": {
      "image/png": "[encoded data removed]",
      "text/plain": [
       "<Figure size 1152x720 with 4 Axes>"
      ]
     },
     "metadata": {
      "needs_background": "light"
     },
     "output_type": "display_data"
    }
   ],
   "source": [
    "# Set figure size\n",
    "fig, ((ax1, ax2), (ax3,ax4)) = plt.subplots(2,2, figsize=(16,10))\n",
    "\n",
    "\n",
    "# Names for the whole graph\n",
    "plt.suptitle(\"Distribution of Water Transition Values in Four Different Lakes\", fontsize=20)\n",
    "\n",
    "# Position, title & plot of each band\n",
    "ax1 = plt.subplot(221), plt.hist(LakesTibet_final, alpha=0.4, color='green'),plt.title(\"Lakes Tibet\"), plt.ylabel(\"Frequency\", fontsize=14)\n",
    "ax2 = plt.subplot(222), plt.hist(LakeHamoun_final, alpha=0.4, color='red'), plt.title(\"Lake Hamoun\")\n",
    "ax3 = plt.subplot(223), plt.hist(AlpineLakes_final, alpha=0.4, color='brown'), plt.title(\"Alpine Lakes\"), plt.ylabel(\"Frequency\", fontsize=14), plt.xlabel(\"Water Transition Values\", fontsize=14)\n",
    "ax4 = plt.subplot(224), plt.hist(LakeMead_final, alpha=0.4, color='blue'), plt.title(\"Lake Mead\"), plt.xlabel(\"Water Transition Values\", fontsize=14)\n",
    "\n",
    "plt.show()"
   ]
  },
  {
   "cell_type": "markdown",
   "metadata": {},
   "source": [
    "The data above shows a skewness of most of the lakes toward the left, representing value 1, which indicates unchanged permanent water. The Tibet's Lakes with the most pixels under that value, followed by the Alpine Lakes, and Leak Mead. Lake Hamoun showing a tendency towards the opposite side of the distribution by having most pixels with values 10, representing a transition into ephemeral seasonal waters. "
   ]
  },
  {
   "cell_type": "markdown",
   "metadata": {},
   "source": [
    "Having the exact number of pixels under each transition value would help getting an even clearer picture."
   ]
  },
  {
   "cell_type": "code",
   "execution_count": 78,
   "metadata": {},
   "outputs": [
    {
     "data": {
      "text/plain": [
       "array([[     1, 524044],\n",
       "       [     2,     99],\n",
       "       [     3, 354712],\n",
       "       [     4,   2983],\n",
       "       [     5,    573],\n",
       "       [     6,  16668],\n",
       "       [     7,     33],\n",
       "       [     8,  47012],\n",
       "       [     9,    113],\n",
       "       [    10,   3215]])"
      ]
     },
     "execution_count": 78,
     "metadata": {},
     "output_type": "execute_result"
    }
   ],
   "source": [
    "# Get a unique count for each  transition value\n",
    "TibetLakes = np.array(np.unique(LakesTibet_final, return_counts=True)).T\n",
    "LakeHamoun = np.array(np.unique(LakeHamoun_final, return_counts=True)).T\n",
    "AlpineLakes = np.array(np.unique(AlpineLakes_final, return_counts=True)).T\n",
    "LakeMead = np.array(np.unique(LakeMead_final, return_counts=True)).T\n",
    "\n",
    "LakeMead"
   ]
  },
  {
   "cell_type": "markdown",
   "metadata": {},
   "source": [
    "Place the previous calculations into a data frame for better manipulation and visualization."
   ]
  },
  {
   "cell_type": "code",
   "execution_count": 53,
   "metadata": {},
   "outputs": [
    {
     "name": "stdout",
     "output_type": "stream",
     "text": [
      "    Area  Variable     Count\n",
      "0  Tibet         1  28504243\n",
      "1  Tibet         2   8373159\n",
      "2  Tibet         3     95156\n",
      "3  Tibet         4   1114056\n",
      "4  Tibet         5   2375523\n",
      "    Area  Variable  Count\n",
      "35  Mead         6  16668\n",
      "36  Mead         7     33\n",
      "37  Mead         8  47012\n",
      "38  Mead         9    113\n",
      "39  Mead        10   3215\n"
     ]
    }
   ],
   "source": [
    "# Create data frame from the data above\n",
    "Variable = \"Permanent\", \n",
    "Tibet = pd.DataFrame(TibetLakes, columns=['Variable','Count'])\n",
    "Tibet[\"Area\"]=[\"Tibet\"]*10\n",
    "Hamoun = pd.DataFrame(LakeHamoun, columns=['Variable','Count' ])\n",
    "Hamoun[\"Area\"]=[\"Hamoun\"]*10\n",
    "Alpines = pd.DataFrame(AlpineLakes, columns=['Variable','Count' ])\n",
    "Alpines[\"Area\"]=[\"Alpines\"]*10\n",
    "Mead = pd.DataFrame(LakeMead, columns=['Variable','Count' ])\n",
    "Mead[\"Area\"]=[\"Mead\"]*10\n",
    "count_table = pd.concat([Tibet, Hamoun, Alpines, Mead], ignore_index=True)\n",
    "count_table = count_table[[\"Area\", \"Variable\", \"Count\"]]\n",
    "\n",
    "print(count_table.head())\n",
    "print(count_table.tail())\n"
   ]
  },
  {
   "cell_type": "markdown",
   "metadata": {},
   "source": [
    "Create pivot table for easier plotting of all individual areas and respective transition values"
   ]
  },
  {
   "cell_type": "code",
   "execution_count": 79,
   "metadata": {},
   "outputs": [
    {
     "data": {
      "text/html": [
       "<div>\n",
       "<style scoped>\n",
       "    .dataframe tbody tr th:only-of-type {\n",
       "        vertical-align: middle;\n",
       "    }\n",
       "\n",
       "    .dataframe tbody tr th {\n",
       "        vertical-align: top;\n",
       "    }\n",
       "\n",
       "    .dataframe thead th {\n",
       "        text-align: right;\n",
       "    }\n",
       "</style>\n",
       "<table border=\"1\" class=\"dataframe\">\n",
       "  <thead>\n",
       "    <tr style=\"text-align: right;\">\n",
       "      <th>Variable</th>\n",
       "      <th>1</th>\n",
       "      <th>2</th>\n",
       "      <th>3</th>\n",
       "      <th>4</th>\n",
       "      <th>5</th>\n",
       "      <th>6</th>\n",
       "      <th>7</th>\n",
       "      <th>8</th>\n",
       "      <th>9</th>\n",
       "      <th>10</th>\n",
       "    </tr>\n",
       "    <tr>\n",
       "      <th>Area</th>\n",
       "      <th></th>\n",
       "      <th></th>\n",
       "      <th></th>\n",
       "      <th></th>\n",
       "      <th></th>\n",
       "      <th></th>\n",
       "      <th></th>\n",
       "      <th></th>\n",
       "      <th></th>\n",
       "      <th></th>\n",
       "    </tr>\n",
       "  </thead>\n",
       "  <tbody>\n",
       "    <tr>\n",
       "      <th>Alpines</th>\n",
       "      <td>843675</td>\n",
       "      <td>2841</td>\n",
       "      <td>635</td>\n",
       "      <td>8009</td>\n",
       "      <td>9539</td>\n",
       "      <td>5828</td>\n",
       "      <td>316</td>\n",
       "      <td>1953</td>\n",
       "      <td>126</td>\n",
       "      <td>2122</td>\n",
       "    </tr>\n",
       "    <tr>\n",
       "      <th>Hamoun</th>\n",
       "      <td>55550</td>\n",
       "      <td>101399</td>\n",
       "      <td>688231</td>\n",
       "      <td>932941</td>\n",
       "      <td>231244</td>\n",
       "      <td>603288</td>\n",
       "      <td>1061</td>\n",
       "      <td>102437</td>\n",
       "      <td>1206518</td>\n",
       "      <td>3078107</td>\n",
       "    </tr>\n",
       "    <tr>\n",
       "      <th>Mead</th>\n",
       "      <td>524044</td>\n",
       "      <td>99</td>\n",
       "      <td>354712</td>\n",
       "      <td>2983</td>\n",
       "      <td>573</td>\n",
       "      <td>16668</td>\n",
       "      <td>33</td>\n",
       "      <td>47012</td>\n",
       "      <td>113</td>\n",
       "      <td>3215</td>\n",
       "    </tr>\n",
       "    <tr>\n",
       "      <th>Tibet</th>\n",
       "      <td>28504243</td>\n",
       "      <td>8373159</td>\n",
       "      <td>95156</td>\n",
       "      <td>1114056</td>\n",
       "      <td>2375523</td>\n",
       "      <td>663144</td>\n",
       "      <td>326353</td>\n",
       "      <td>164251</td>\n",
       "      <td>429872</td>\n",
       "      <td>1447208</td>\n",
       "    </tr>\n",
       "  </tbody>\n",
       "</table>\n",
       "</div>"
      ],
      "text/plain": [
       "Variable        1        2       3        4        5       6       7       8   \\\n",
       "Area                                                                            \n",
       "Alpines     843675     2841     635     8009     9539    5828     316    1953   \n",
       "Hamoun       55550   101399  688231   932941   231244  603288    1061  102437   \n",
       "Mead        524044       99  354712     2983      573   16668      33   47012   \n",
       "Tibet     28504243  8373159   95156  1114056  2375523  663144  326353  164251   \n",
       "\n",
       "Variable       9        10  \n",
       "Area                        \n",
       "Alpines       126     2122  \n",
       "Hamoun    1206518  3078107  \n",
       "Mead          113     3215  \n",
       "Tibet      429872  1447208  "
      ]
     },
     "execution_count": 79,
     "metadata": {},
     "output_type": "execute_result"
    }
   ],
   "source": [
    "# Create pivot table for easier ploting of all individual areas and respective transition values\n",
    "count1 = count_table.pivot(index='Area', columns='Variable', values='Count')\n",
    "count1\n"
   ]
  },
  {
   "cell_type": "code",
   "execution_count": 55,
   "metadata": {},
   "outputs": [
    {
     "data": {
      "text/plain": [
       "(array([6, 6, 6, ..., 5, 4, 4]),\n",
       " array([ 5,  5,  5, ..., 10, 10,  5]),\n",
       " array([6, 6, 4, ..., 1, 1, 6]),\n",
       " array([6, 6, 6, ..., 1, 1, 1]))"
      ]
     },
     "execution_count": 55,
     "metadata": {},
     "output_type": "execute_result"
    }
   ],
   "source": [
    "subset_lakes = LakesTibet_final, LakeHamoun_final, AlpineLakes_final, LakeMead_final\n",
    "subset_lakes"
   ]
  },
  {
   "cell_type": "markdown",
   "metadata": {},
   "source": [
    "Let's take a look at the counts for all of the areas of interest to get an insight into how much they might differ"
   ]
  },
  {
   "cell_type": "code",
   "execution_count": 80,
   "metadata": {},
   "outputs": [
    {
     "data": {
      "image/png": "[encoded data removed]",
      "text/plain": [
       "<Figure size 648x288 with 1 Axes>"
      ]
     },
     "metadata": {
      "needs_background": "light"
     },
     "output_type": "display_data"
    }
   ],
   "source": [
    "# Plot the data\n",
    "count1.plot(kind='bar', figsize=(9,4))\n",
    "plt.xlabel(\"Transitional Variables\", fontsize=16)\n",
    "plt.ylabel(\"Transitional Variables Values\", fontsize=16)\n",
    "plt.title(\"Surface Water Transitional Changes for Four Lakes\", fontsize=18)\n",
    "plt.show()"
   ]
  },
  {
   "cell_type": "markdown",
   "metadata": {},
   "source": [
    "The graph above gives us a clearer view of how the Tibet's lakes have a greater area of study compared to the rest of the lakes, making difficult to visualize the rest of the data. \n",
    "\n",
    "Let's remove the Tibet's lakes in order to visualize the rest of the lakes. "
   ]
  },
  {
   "cell_type": "code",
   "execution_count": 82,
   "metadata": {},
   "outputs": [
    {
     "data": {
      "text/html": [
       "<div>\n",
       "<style scoped>\n",
       "    .dataframe tbody tr th:only-of-type {\n",
       "        vertical-align: middle;\n",
       "    }\n",
       "\n",
       "    .dataframe tbody tr th {\n",
       "        vertical-align: top;\n",
       "    }\n",
       "\n",
       "    .dataframe thead th {\n",
       "        text-align: right;\n",
       "    }\n",
       "</style>\n",
       "<table border=\"1\" class=\"dataframe\">\n",
       "  <thead>\n",
       "    <tr style=\"text-align: right;\">\n",
       "      <th>Variable</th>\n",
       "      <th>1</th>\n",
       "      <th>2</th>\n",
       "      <th>3</th>\n",
       "      <th>4</th>\n",
       "      <th>5</th>\n",
       "      <th>6</th>\n",
       "      <th>7</th>\n",
       "      <th>8</th>\n",
       "      <th>9</th>\n",
       "      <th>10</th>\n",
       "    </tr>\n",
       "    <tr>\n",
       "      <th>Area</th>\n",
       "      <th></th>\n",
       "      <th></th>\n",
       "      <th></th>\n",
       "      <th></th>\n",
       "      <th></th>\n",
       "      <th></th>\n",
       "      <th></th>\n",
       "      <th></th>\n",
       "      <th></th>\n",
       "      <th></th>\n",
       "    </tr>\n",
       "  </thead>\n",
       "  <tbody>\n",
       "    <tr>\n",
       "      <th>Alpines</th>\n",
       "      <td>843675</td>\n",
       "      <td>2841</td>\n",
       "      <td>635</td>\n",
       "      <td>8009</td>\n",
       "      <td>9539</td>\n",
       "      <td>5828</td>\n",
       "      <td>316</td>\n",
       "      <td>1953</td>\n",
       "      <td>126</td>\n",
       "      <td>2122</td>\n",
       "    </tr>\n",
       "    <tr>\n",
       "      <th>Hamoun</th>\n",
       "      <td>55550</td>\n",
       "      <td>101399</td>\n",
       "      <td>688231</td>\n",
       "      <td>932941</td>\n",
       "      <td>231244</td>\n",
       "      <td>603288</td>\n",
       "      <td>1061</td>\n",
       "      <td>102437</td>\n",
       "      <td>1206518</td>\n",
       "      <td>3078107</td>\n",
       "    </tr>\n",
       "    <tr>\n",
       "      <th>Mead</th>\n",
       "      <td>524044</td>\n",
       "      <td>99</td>\n",
       "      <td>354712</td>\n",
       "      <td>2983</td>\n",
       "      <td>573</td>\n",
       "      <td>16668</td>\n",
       "      <td>33</td>\n",
       "      <td>47012</td>\n",
       "      <td>113</td>\n",
       "      <td>3215</td>\n",
       "    </tr>\n",
       "  </tbody>\n",
       "</table>\n",
       "</div>"
      ],
      "text/plain": [
       "Variable      1       2       3       4       5       6     7       8   \\\n",
       "Area                                                                     \n",
       "Alpines   843675    2841     635    8009    9539    5828   316    1953   \n",
       "Hamoun     55550  101399  688231  932941  231244  603288  1061  102437   \n",
       "Mead      524044      99  354712    2983     573   16668    33   47012   \n",
       "\n",
       "Variable       9        10  \n",
       "Area                        \n",
       "Alpines       126     2122  \n",
       "Hamoun    1206518  3078107  \n",
       "Mead          113     3215  "
      ]
     },
     "execution_count": 82,
     "metadata": {},
     "output_type": "execute_result"
    }
   ],
   "source": [
    "# Remove Tibet from the above dataset and graph it\n",
    "count2 = count1.drop(index=\"Tibet\", inplace=False)\n",
    "count2"
   ]
  },
  {
   "cell_type": "code",
   "execution_count": 83,
   "metadata": {},
   "outputs": [
    {
     "data": {
      "image/png": "[encoded data removed]",
      "text/plain": [
       "<Figure size 648x288 with 1 Axes>"
      ]
     },
     "metadata": {
      "needs_background": "light"
     },
     "output_type": "display_data"
    }
   ],
   "source": [
    "# Graph data without the Tibet's\n",
    "count2.plot(kind='bar', figsize=(9,4))\n",
    "plt.xlabel(\"Transitional Variables\", fontsize=16)\n",
    "plt.ylabel(\"Transitional Variables Values\", fontsize=16)\n",
    "plt.title(\"Surface Water Transitional Changes for Four Lakes\", fontsize=18)\n",
    "plt.show()"
   ]
  },
  {
   "cell_type": "markdown",
   "metadata": {},
   "source": [
    "Hamoun has the second greatest area and it is clear how the data is driven by the different sample size of each lake which it can be an issue when comparing zones.\n",
    "\n",
    "Let's take a look at the central tendency of the data."
   ]
  },
  {
   "cell_type": "code",
   "execution_count": 77,
   "metadata": {},
   "outputs": [],
   "source": [
    "# Empty lists for the stats\n",
    "stat_min = [] # Minimum\n",
    "stat_max = [] # Maximum\n",
    "stat_ave = [] # Mean\n",
    "stat_med = [] # Median\n",
    "stat_P25 = [] # 25 percent quantile\n",
    "stat_P75 = [] # 75 percent quantile\n",
    "stat_var = [] # Variance\n",
    "stat_std = [] # Standard Deviation\n",
    "\n",
    "\n",
    "# Calcualate and append value to lists\n",
    "for i in subset_lakes:\n",
    "    mn =i.min() # minimum\n",
    "    stat_min.append(mn)\n",
    "    mx = i.max() #maximum\n",
    "    stat_max.append(mx)\n",
    "    av = i.mean() #Average\n",
    "    stat_ave.append(av)\n",
    "    p25 = np.percentile(i, 25) #1st quantile\n",
    "    stat_P25.append(p25)\n",
    "    md = np.median(i)# median\n",
    "    stat_med.append(md)\n",
    "    p75 = np.percentile(i, 75) # 3rd quantile\n",
    "    stat_P75.append(p75)\n",
    "    va = i.var() # variance\n",
    "    stat_var.append(va)\n",
    "    st = i.std() # standard deviation\n",
    "    stat_std.append(st)\n",
    "\n"
   ]
  },
  {
   "cell_type": "code",
   "execution_count": 58,
   "metadata": {},
   "outputs": [
    {
     "data": {
      "text/html": [
       "<div>\n",
       "<style scoped>\n",
       "    .dataframe tbody tr th:only-of-type {\n",
       "        vertical-align: middle;\n",
       "    }\n",
       "\n",
       "    .dataframe tbody tr th {\n",
       "        vertical-align: top;\n",
       "    }\n",
       "\n",
       "    .dataframe thead th {\n",
       "        text-align: right;\n",
       "    }\n",
       "</style>\n",
       "<table border=\"1\" class=\"dataframe\">\n",
       "  <thead>\n",
       "    <tr style=\"text-align: right;\">\n",
       "      <th></th>\n",
       "      <th>LakesTibet</th>\n",
       "      <th>LakeHamoun</th>\n",
       "      <th>AlpineLakes</th>\n",
       "      <th>LakeMeaddata</th>\n",
       "    </tr>\n",
       "  </thead>\n",
       "  <tbody>\n",
       "    <tr>\n",
       "      <th>Minimum</th>\n",
       "      <td>1.000</td>\n",
       "      <td>1.000</td>\n",
       "      <td>1.000</td>\n",
       "      <td>1.000</td>\n",
       "    </tr>\n",
       "    <tr>\n",
       "      <th>Maximum</th>\n",
       "      <td>10.000</td>\n",
       "      <td>10.000</td>\n",
       "      <td>10.000</td>\n",
       "      <td>10.000</td>\n",
       "    </tr>\n",
       "    <tr>\n",
       "      <th>Mean</th>\n",
       "      <td>2.018</td>\n",
       "      <td>7.613</td>\n",
       "      <td>1.150</td>\n",
       "      <td>2.225</td>\n",
       "    </tr>\n",
       "    <tr>\n",
       "      <th>25th Quantile</th>\n",
       "      <td>1.000</td>\n",
       "      <td>4.000</td>\n",
       "      <td>1.000</td>\n",
       "      <td>1.000</td>\n",
       "    </tr>\n",
       "    <tr>\n",
       "      <th>Median</th>\n",
       "      <td>2.000</td>\n",
       "      <td>10.000</td>\n",
       "      <td>1.000</td>\n",
       "      <td>3.000</td>\n",
       "    </tr>\n",
       "    <tr>\n",
       "      <th>75th Quantile</th>\n",
       "      <td>1.000</td>\n",
       "      <td>9.000</td>\n",
       "      <td>1.000</td>\n",
       "      <td>1.000</td>\n",
       "    </tr>\n",
       "    <tr>\n",
       "      <th>Variance</th>\n",
       "      <td>4.433</td>\n",
       "      <td>7.924</td>\n",
       "      <td>0.735</td>\n",
       "      <td>3.180</td>\n",
       "    </tr>\n",
       "    <tr>\n",
       "      <th>Standard Deviation</th>\n",
       "      <td>2.105</td>\n",
       "      <td>2.815</td>\n",
       "      <td>0.857</td>\n",
       "      <td>1.783</td>\n",
       "    </tr>\n",
       "  </tbody>\n",
       "</table>\n",
       "</div>"
      ],
      "text/plain": [
       "                    LakesTibet  LakeHamoun  AlpineLakes  LakeMeaddata\n",
       "Minimum                  1.000       1.000        1.000         1.000\n",
       "Maximum                 10.000      10.000       10.000        10.000\n",
       "Mean                     2.018       7.613        1.150         2.225\n",
       "25th Quantile            1.000       4.000        1.000         1.000\n",
       "Median                   2.000      10.000        1.000         3.000\n",
       "75th Quantile            1.000       9.000        1.000         1.000\n",
       "Variance                 4.433       7.924        0.735         3.180\n",
       "Standard Deviation       2.105       2.815        0.857         1.783"
      ]
     },
     "execution_count": 58,
     "metadata": {},
     "output_type": "execute_result"
    }
   ],
   "source": [
    "# put all in one list\n",
    "stat_all = [stat_min, stat_max, stat_ave, stat_P25, stat_P75, stat_med, stat_var, stat_std]\n",
    "\n",
    "\n",
    "# Rename Column and Row headers\n",
    "stat_summary = pd.DataFrame(data =stat_all,\n",
    "            index = ['Minimum','Maximum','Mean','25th Quantile','Median',\n",
    "                     '75th Quantile','Variance','Standard Deviation'],\n",
    "            columns = ['LakesTibet', 'LakeHamoun', 'AlpineLakes','LakeMeaddata'])\n",
    "\n",
    "stat_summary.round(3)"
   ]
  },
  {
   "cell_type": "markdown",
   "metadata": {},
   "source": [
    "Sample size affects the mean and standard deviation as seen on the table above, these values are higher for the Tibet and Hamoun lake, the lakes with the biggest areas. \n",
    "\n",
    "A solution to this is to calculate and run the statistics on the percentage of each transitional change."
   ]
  },
  {
   "cell_type": "code",
   "execution_count": 84,
   "metadata": {},
   "outputs": [
    {
     "data": {
      "text/html": [
       "<div>\n",
       "<style scoped>\n",
       "    .dataframe tbody tr th:only-of-type {\n",
       "        vertical-align: middle;\n",
       "    }\n",
       "\n",
       "    .dataframe tbody tr th {\n",
       "        vertical-align: top;\n",
       "    }\n",
       "\n",
       "    .dataframe thead th {\n",
       "        text-align: right;\n",
       "    }\n",
       "</style>\n",
       "<table border=\"1\" class=\"dataframe\">\n",
       "  <thead>\n",
       "    <tr style=\"text-align: right;\">\n",
       "      <th></th>\n",
       "      <th>Area</th>\n",
       "      <th>Count</th>\n",
       "      <th>Percent</th>\n",
       "      <th>Variable</th>\n",
       "    </tr>\n",
       "  </thead>\n",
       "  <tbody>\n",
       "    <tr>\n",
       "      <th>0</th>\n",
       "      <td>Tibet</td>\n",
       "      <td>28504243</td>\n",
       "      <td>65.54</td>\n",
       "      <td>1</td>\n",
       "    </tr>\n",
       "    <tr>\n",
       "      <th>1</th>\n",
       "      <td>Tibet</td>\n",
       "      <td>8373159</td>\n",
       "      <td>19.25</td>\n",
       "      <td>2</td>\n",
       "    </tr>\n",
       "    <tr>\n",
       "      <th>2</th>\n",
       "      <td>Tibet</td>\n",
       "      <td>95156</td>\n",
       "      <td>0.22</td>\n",
       "      <td>3</td>\n",
       "    </tr>\n",
       "    <tr>\n",
       "      <th>3</th>\n",
       "      <td>Tibet</td>\n",
       "      <td>1114056</td>\n",
       "      <td>2.56</td>\n",
       "      <td>4</td>\n",
       "    </tr>\n",
       "    <tr>\n",
       "      <th>4</th>\n",
       "      <td>Tibet</td>\n",
       "      <td>2375523</td>\n",
       "      <td>5.46</td>\n",
       "      <td>5</td>\n",
       "    </tr>\n",
       "  </tbody>\n",
       "</table>\n",
       "</div>"
      ],
      "text/plain": [
       "    Area     Count  Percent  Variable\n",
       "0  Tibet  28504243    65.54         1\n",
       "1  Tibet   8373159    19.25         2\n",
       "2  Tibet     95156     0.22         3\n",
       "3  Tibet   1114056     2.56         4\n",
       "4  Tibet   2375523     5.46         5"
      ]
     },
     "execution_count": 84,
     "metadata": {},
     "output_type": "execute_result"
    }
   ],
   "source": [
    "# Iterate through the data, calculate the percentage, and creat a data frame\n",
    "\n",
    "tables = Tibet, Hamoun, Alpines, Mead\n",
    "for df_name in tables:\n",
    "    \n",
    "    percent = []\n",
    "    for var in [\"Count\"]:\n",
    "        \n",
    "        percentage = ((df_name[var].divide(df_name.Count.sum()))*100)\n",
    "        percentage = (round(percentage, 2))\n",
    "        percent.append(percentage)\n",
    "        \n",
    "        percent = pd.concat(percent, axis=1)\n",
    "        df_name[\"Percent\"] = percent\n",
    "        \n",
    "        Percent_table = pd.concat([Tibet, Hamoun, Alpines, Mead], ignore_index=True, sort=True)\n",
    "              \n",
    "Percent_table.head()\n",
    "\n",
    "\n"
   ]
  },
  {
   "cell_type": "code",
   "execution_count": 71,
   "metadata": {},
   "outputs": [
    {
     "data": {
      "text/html": [
       "<div>\n",
       "<style scoped>\n",
       "    .dataframe tbody tr th:only-of-type {\n",
       "        vertical-align: middle;\n",
       "    }\n",
       "\n",
       "    .dataframe tbody tr th {\n",
       "        vertical-align: top;\n",
       "    }\n",
       "\n",
       "    .dataframe thead th {\n",
       "        text-align: right;\n",
       "    }\n",
       "</style>\n",
       "<table border=\"1\" class=\"dataframe\">\n",
       "  <thead>\n",
       "    <tr style=\"text-align: right;\">\n",
       "      <th>Variable</th>\n",
       "      <th>1</th>\n",
       "      <th>2</th>\n",
       "      <th>3</th>\n",
       "      <th>4</th>\n",
       "      <th>5</th>\n",
       "      <th>6</th>\n",
       "      <th>7</th>\n",
       "      <th>8</th>\n",
       "      <th>9</th>\n",
       "      <th>10</th>\n",
       "    </tr>\n",
       "    <tr>\n",
       "      <th>Area</th>\n",
       "      <th></th>\n",
       "      <th></th>\n",
       "      <th></th>\n",
       "      <th></th>\n",
       "      <th></th>\n",
       "      <th></th>\n",
       "      <th></th>\n",
       "      <th></th>\n",
       "      <th></th>\n",
       "      <th></th>\n",
       "    </tr>\n",
       "  </thead>\n",
       "  <tbody>\n",
       "    <tr>\n",
       "      <th>Alpines</th>\n",
       "      <td>96.42</td>\n",
       "      <td>0.32</td>\n",
       "      <td>0.07</td>\n",
       "      <td>0.92</td>\n",
       "      <td>1.09</td>\n",
       "      <td>0.67</td>\n",
       "      <td>0.04</td>\n",
       "      <td>0.22</td>\n",
       "      <td>0.01</td>\n",
       "      <td>0.24</td>\n",
       "    </tr>\n",
       "    <tr>\n",
       "      <th>Hamoun</th>\n",
       "      <td>0.79</td>\n",
       "      <td>1.45</td>\n",
       "      <td>9.83</td>\n",
       "      <td>13.33</td>\n",
       "      <td>3.30</td>\n",
       "      <td>8.62</td>\n",
       "      <td>0.02</td>\n",
       "      <td>1.46</td>\n",
       "      <td>17.23</td>\n",
       "      <td>43.97</td>\n",
       "    </tr>\n",
       "    <tr>\n",
       "      <th>Mead</th>\n",
       "      <td>55.19</td>\n",
       "      <td>0.01</td>\n",
       "      <td>37.36</td>\n",
       "      <td>0.31</td>\n",
       "      <td>0.06</td>\n",
       "      <td>1.76</td>\n",
       "      <td>0.00</td>\n",
       "      <td>4.95</td>\n",
       "      <td>0.01</td>\n",
       "      <td>0.34</td>\n",
       "    </tr>\n",
       "    <tr>\n",
       "      <th>Tibet</th>\n",
       "      <td>65.54</td>\n",
       "      <td>19.25</td>\n",
       "      <td>0.22</td>\n",
       "      <td>2.56</td>\n",
       "      <td>5.46</td>\n",
       "      <td>1.52</td>\n",
       "      <td>0.75</td>\n",
       "      <td>0.38</td>\n",
       "      <td>0.99</td>\n",
       "      <td>3.33</td>\n",
       "    </tr>\n",
       "  </tbody>\n",
       "</table>\n",
       "</div>"
      ],
      "text/plain": [
       "Variable     1      2      3      4     5     6     7     8      9      10\n",
       "Area                                                                      \n",
       "Alpines   96.42   0.32   0.07   0.92  1.09  0.67  0.04  0.22   0.01   0.24\n",
       "Hamoun     0.79   1.45   9.83  13.33  3.30  8.62  0.02  1.46  17.23  43.97\n",
       "Mead      55.19   0.01  37.36   0.31  0.06  1.76  0.00  4.95   0.01   0.34\n",
       "Tibet     65.54  19.25   0.22   2.56  5.46  1.52  0.75  0.38   0.99   3.33"
      ]
     },
     "execution_count": 71,
     "metadata": {},
     "output_type": "execute_result"
    }
   ],
   "source": [
    "Percent1 = Percent_table.pivot(index='Area', columns='Variable', values='Percent')\n",
    "Percent1\n"
   ]
  },
  {
   "cell_type": "code",
   "execution_count": 85,
   "metadata": {},
   "outputs": [
    {
     "data": {
      "image/png": "[encoded data removed]",
      "text/plain": [
       "<Figure size 432x288 with 1 Axes>"
      ]
     },
     "metadata": {
      "needs_background": "light"
     },
     "output_type": "display_data"
    }
   ],
   "source": [
    "# Plot the percentage of each transitional value for each lake\n",
    "Percent1.plot(kind='bar', stacked=True)\n",
    "plt.xlabel(\"Variables per Lake\", fontsize=14)\n",
    "plt.ylabel(\"Percentage\", fontsize=14)\n",
    "plt.title(\"Percentage of Transitional Changes\", fontsize=18)\n",
    "plt.legend((\"1\", \"2\", \"3\",\"4\", \"5\",\"6\",\"7\",\"8\",\"9\",\"10\"), loc=\"center left\", bbox_to_anchor=(1.0,0.5))\n",
    "\n",
    "plt.show()\n"
   ]
  },
  {
   "cell_type": "code",
   "execution_count": 86,
   "metadata": {},
   "outputs": [
    {
     "data": {
      "text/html": [
       "<div>\n",
       "<style scoped>\n",
       "    .dataframe tbody tr th:only-of-type {\n",
       "        vertical-align: middle;\n",
       "    }\n",
       "\n",
       "    .dataframe tbody tr th {\n",
       "        vertical-align: top;\n",
       "    }\n",
       "\n",
       "    .dataframe thead th {\n",
       "        text-align: right;\n",
       "    }\n",
       "</style>\n",
       "<table border=\"1\" class=\"dataframe\">\n",
       "  <thead>\n",
       "    <tr style=\"text-align: right;\">\n",
       "      <th>Area</th>\n",
       "      <th>Alpines</th>\n",
       "      <th>Hamoun</th>\n",
       "      <th>Mead</th>\n",
       "      <th>Tibet</th>\n",
       "    </tr>\n",
       "    <tr>\n",
       "      <th>Variable</th>\n",
       "      <th></th>\n",
       "      <th></th>\n",
       "      <th></th>\n",
       "      <th></th>\n",
       "    </tr>\n",
       "  </thead>\n",
       "  <tbody>\n",
       "    <tr>\n",
       "      <th>1</th>\n",
       "      <td>96.42</td>\n",
       "      <td>0.79</td>\n",
       "      <td>55.19</td>\n",
       "      <td>65.54</td>\n",
       "    </tr>\n",
       "    <tr>\n",
       "      <th>2</th>\n",
       "      <td>0.32</td>\n",
       "      <td>1.45</td>\n",
       "      <td>0.01</td>\n",
       "      <td>19.25</td>\n",
       "    </tr>\n",
       "    <tr>\n",
       "      <th>3</th>\n",
       "      <td>0.07</td>\n",
       "      <td>9.83</td>\n",
       "      <td>37.36</td>\n",
       "      <td>0.22</td>\n",
       "    </tr>\n",
       "    <tr>\n",
       "      <th>4</th>\n",
       "      <td>0.92</td>\n",
       "      <td>13.33</td>\n",
       "      <td>0.31</td>\n",
       "      <td>2.56</td>\n",
       "    </tr>\n",
       "    <tr>\n",
       "      <th>5</th>\n",
       "      <td>1.09</td>\n",
       "      <td>3.30</td>\n",
       "      <td>0.06</td>\n",
       "      <td>5.46</td>\n",
       "    </tr>\n",
       "    <tr>\n",
       "      <th>6</th>\n",
       "      <td>0.67</td>\n",
       "      <td>8.62</td>\n",
       "      <td>1.76</td>\n",
       "      <td>1.52</td>\n",
       "    </tr>\n",
       "    <tr>\n",
       "      <th>7</th>\n",
       "      <td>0.04</td>\n",
       "      <td>0.02</td>\n",
       "      <td>0.00</td>\n",
       "      <td>0.75</td>\n",
       "    </tr>\n",
       "    <tr>\n",
       "      <th>8</th>\n",
       "      <td>0.22</td>\n",
       "      <td>1.46</td>\n",
       "      <td>4.95</td>\n",
       "      <td>0.38</td>\n",
       "    </tr>\n",
       "    <tr>\n",
       "      <th>9</th>\n",
       "      <td>0.01</td>\n",
       "      <td>17.23</td>\n",
       "      <td>0.01</td>\n",
       "      <td>0.99</td>\n",
       "    </tr>\n",
       "    <tr>\n",
       "      <th>10</th>\n",
       "      <td>0.24</td>\n",
       "      <td>43.97</td>\n",
       "      <td>0.34</td>\n",
       "      <td>3.33</td>\n",
       "    </tr>\n",
       "  </tbody>\n",
       "</table>\n",
       "</div>"
      ],
      "text/plain": [
       "Area      Alpines  Hamoun   Mead  Tibet\n",
       "Variable                               \n",
       "1           96.42    0.79  55.19  65.54\n",
       "2            0.32    1.45   0.01  19.25\n",
       "3            0.07    9.83  37.36   0.22\n",
       "4            0.92   13.33   0.31   2.56\n",
       "5            1.09    3.30   0.06   5.46\n",
       "6            0.67    8.62   1.76   1.52\n",
       "7            0.04    0.02   0.00   0.75\n",
       "8            0.22    1.46   4.95   0.38\n",
       "9            0.01   17.23   0.01   0.99\n",
       "10           0.24   43.97   0.34   3.33"
      ]
     },
     "execution_count": 86,
     "metadata": {},
     "output_type": "execute_result"
    }
   ],
   "source": [
    "# Reverse the previous data to get a second insight into the same data\n",
    "Percent2 = pd.DataFrame(Percent1).T\n",
    "Percent2"
   ]
  },
  {
   "cell_type": "code",
   "execution_count": 87,
   "metadata": {},
   "outputs": [
    {
     "data": {
      "image/png": "[encoded data removed]",
      "text/plain": [
       "<Figure size 432x288 with 1 Axes>"
      ]
     },
     "metadata": {
      "needs_background": "light"
     },
     "output_type": "display_data"
    }
   ],
   "source": [
    "# Plot the data\n",
    "Percent2 = pd.DataFrame(Percent1).T\n",
    "Percent2.plot(kind='line', grid=True)\n",
    "plt.xlim((0.5, 10))\n",
    "plt.ylim((0, 100))\n",
    "plt.xlabel(\"Variables per Lake\", fontsize=14)\n",
    "plt.ylabel(\"Percentage\", fontsize=14)\n",
    "plt.yticks(np.arange(0,100,20))\n",
    "plt.title(\"Percentage of Transitional Changes\", fontsize=18)\n",
    "plt.legend((\"Alpines\",\"Hamoun\",\"Mead\",\"Tibet\"))\n",
    "\n",
    "\n",
    "plt.show()"
   ]
  },
  {
   "cell_type": "markdown",
   "metadata": {},
   "source": [
    "The previous percentage graphs provide some interesting information about the change of the surface water for these four locations. The Alpine lakes, although having the smallest area, it had 96% of its permanent surface water unchanged, 55% percent for lake Mead, 65% for the Tibet and only 0.79% for Lake Hamoun. \n",
    "\n",
    "The second graph shows how the Alpine and Tibet's lakes have one sharp transitional change, value 1. Lake Mead shows two shar transitional values, 1 and 3, while lake Hamoun shows a more subtable change among all transitional values. "
   ]
  },
  {
   "cell_type": "markdown",
   "metadata": {},
   "source": [
    "Let's take a look at the central tendencies, dispersion and variation of the percentage data."
   ]
  },
  {
   "cell_type": "code",
   "execution_count": 90,
   "metadata": {},
   "outputs": [
    {
     "data": {
      "text/html": [
       "<div>\n",
       "<style scoped>\n",
       "    .dataframe tbody tr th:only-of-type {\n",
       "        vertical-align: middle;\n",
       "    }\n",
       "\n",
       "    .dataframe tbody tr th {\n",
       "        vertical-align: top;\n",
       "    }\n",
       "\n",
       "    .dataframe thead th {\n",
       "        text-align: right;\n",
       "    }\n",
       "</style>\n",
       "<table border=\"1\" class=\"dataframe\">\n",
       "  <thead>\n",
       "    <tr style=\"text-align: right;\">\n",
       "      <th>Area</th>\n",
       "      <th>Alpines</th>\n",
       "      <th>Hamoun</th>\n",
       "      <th>Mead</th>\n",
       "      <th>Tibet</th>\n",
       "    </tr>\n",
       "  </thead>\n",
       "  <tbody>\n",
       "    <tr>\n",
       "      <th>count</th>\n",
       "      <td>10.000000</td>\n",
       "      <td>10.000000</td>\n",
       "      <td>10.00000</td>\n",
       "      <td>10.000000</td>\n",
       "    </tr>\n",
       "    <tr>\n",
       "      <th>mean</th>\n",
       "      <td>10.000000</td>\n",
       "      <td>10.000000</td>\n",
       "      <td>9.99900</td>\n",
       "      <td>10.000000</td>\n",
       "    </tr>\n",
       "    <tr>\n",
       "      <th>std</th>\n",
       "      <td>30.367224</td>\n",
       "      <td>13.310834</td>\n",
       "      <td>19.63478</td>\n",
       "      <td>20.323916</td>\n",
       "    </tr>\n",
       "    <tr>\n",
       "      <th>min</th>\n",
       "      <td>0.010000</td>\n",
       "      <td>0.020000</td>\n",
       "      <td>0.00000</td>\n",
       "      <td>0.220000</td>\n",
       "    </tr>\n",
       "    <tr>\n",
       "      <th>25%</th>\n",
       "      <td>0.107500</td>\n",
       "      <td>1.452500</td>\n",
       "      <td>0.02250</td>\n",
       "      <td>0.810000</td>\n",
       "    </tr>\n",
       "    <tr>\n",
       "      <th>50%</th>\n",
       "      <td>0.280000</td>\n",
       "      <td>5.960000</td>\n",
       "      <td>0.32500</td>\n",
       "      <td>2.040000</td>\n",
       "    </tr>\n",
       "    <tr>\n",
       "      <th>75%</th>\n",
       "      <td>0.857500</td>\n",
       "      <td>12.455000</td>\n",
       "      <td>4.15250</td>\n",
       "      <td>4.927500</td>\n",
       "    </tr>\n",
       "    <tr>\n",
       "      <th>max</th>\n",
       "      <td>96.420000</td>\n",
       "      <td>43.970000</td>\n",
       "      <td>55.19000</td>\n",
       "      <td>65.540000</td>\n",
       "    </tr>\n",
       "  </tbody>\n",
       "</table>\n",
       "</div>"
      ],
      "text/plain": [
       "Area     Alpines     Hamoun      Mead      Tibet\n",
       "count  10.000000  10.000000  10.00000  10.000000\n",
       "mean   10.000000  10.000000   9.99900  10.000000\n",
       "std    30.367224  13.310834  19.63478  20.323916\n",
       "min     0.010000   0.020000   0.00000   0.220000\n",
       "25%     0.107500   1.452500   0.02250   0.810000\n",
       "50%     0.280000   5.960000   0.32500   2.040000\n",
       "75%     0.857500  12.455000   4.15250   4.927500\n",
       "max    96.420000  43.970000  55.19000  65.540000"
      ]
     },
     "execution_count": 90,
     "metadata": {},
     "output_type": "execute_result"
    }
   ],
   "source": [
    "# Central tendencies of data above\n",
    "Percent2.describe()"
   ]
  },
  {
   "cell_type": "code",
   "execution_count": 75,
   "metadata": {},
   "outputs": [
    {
     "data": {
      "image/png": "[encoded data removed]",
      "text/plain": [
       "<Figure size 432x288 with 1 Axes>"
      ]
     },
     "metadata": {
      "needs_background": "light"
     },
     "output_type": "display_data"
    }
   ],
   "source": [
    "# Graph data and look at the variance\n",
    "plt.hist(Percent2[\"Tibet\"], alpha=0.5, label='Tibet')\n",
    "plt.axvline(Percent2[\"Tibet\"].std(),linestyle=\"solid\", color=\"blue\",  linewidth=3)\n",
    "plt.hist(Percent2[\"Hamoun\"], alpha=0.5, label='Hamoun')\n",
    "plt.axvline(Percent2[\"Hamoun\"].std(),linestyle=\"solid\", color=\"orange\", linewidth=2)\n",
    "plt.hist(Percent2[\"Mead\"], alpha=0.5, label='Mead') \n",
    "plt.axvline(Percent2[\"Mead\"].std(),linestyle=\"solid\", color=\"green\", linewidth=3)\n",
    "plt.hist(Percent2[\"Alpines\"], alpha=0.5, label='Alpines')\n",
    "plt.axvline(Percent2[\"Alpines\"].std(),linestyle=\"solid\", color=\"red\", linewidth=2)\n",
    "\n",
    "\n",
    "plt.xlabel(\"Variables\", fontsize=14)\n",
    "plt.ylabel(\"Transition Values\", fontsize=14)\n",
    "plt.title(\"Distribution and STD of Transitional Changes\", fontsize=18)\n",
    "\n",
    "\n",
    "plt.legend(loc='upper right') \n",
    "plt.show()\n",
    "\n"
   ]
  },
  {
   "cell_type": "markdown",
   "metadata": {},
   "source": [
    "This graph of distribution and standard variation values (solid lines) seems to be offset due to the high number of pixels that fall into the number 1 category. Let's clean that category out to be able to visualize the distribution of the rest of the data. "
   ]
  },
  {
   "cell_type": "code",
   "execution_count": 94,
   "metadata": {},
   "outputs": [
    {
     "data": {
      "text/html": [
       "<div>\n",
       "<style scoped>\n",
       "    .dataframe tbody tr th:only-of-type {\n",
       "        vertical-align: middle;\n",
       "    }\n",
       "\n",
       "    .dataframe tbody tr th {\n",
       "        vertical-align: top;\n",
       "    }\n",
       "\n",
       "    .dataframe thead th {\n",
       "        text-align: right;\n",
       "    }\n",
       "</style>\n",
       "<table border=\"1\" class=\"dataframe\">\n",
       "  <thead>\n",
       "    <tr style=\"text-align: right;\">\n",
       "      <th>Area</th>\n",
       "      <th>Alpines</th>\n",
       "      <th>Hamoun</th>\n",
       "      <th>Mead</th>\n",
       "      <th>Tibet</th>\n",
       "    </tr>\n",
       "    <tr>\n",
       "      <th>Variable</th>\n",
       "      <th></th>\n",
       "      <th></th>\n",
       "      <th></th>\n",
       "      <th></th>\n",
       "    </tr>\n",
       "  </thead>\n",
       "  <tbody>\n",
       "    <tr>\n",
       "      <th>2</th>\n",
       "      <td>0.32</td>\n",
       "      <td>1.45</td>\n",
       "      <td>0.01</td>\n",
       "      <td>19.25</td>\n",
       "    </tr>\n",
       "    <tr>\n",
       "      <th>3</th>\n",
       "      <td>0.07</td>\n",
       "      <td>9.83</td>\n",
       "      <td>37.36</td>\n",
       "      <td>0.22</td>\n",
       "    </tr>\n",
       "    <tr>\n",
       "      <th>4</th>\n",
       "      <td>0.92</td>\n",
       "      <td>13.33</td>\n",
       "      <td>0.31</td>\n",
       "      <td>2.56</td>\n",
       "    </tr>\n",
       "    <tr>\n",
       "      <th>5</th>\n",
       "      <td>1.09</td>\n",
       "      <td>3.30</td>\n",
       "      <td>0.06</td>\n",
       "      <td>5.46</td>\n",
       "    </tr>\n",
       "    <tr>\n",
       "      <th>6</th>\n",
       "      <td>0.67</td>\n",
       "      <td>8.62</td>\n",
       "      <td>1.76</td>\n",
       "      <td>1.52</td>\n",
       "    </tr>\n",
       "    <tr>\n",
       "      <th>7</th>\n",
       "      <td>0.04</td>\n",
       "      <td>0.02</td>\n",
       "      <td>0.00</td>\n",
       "      <td>0.75</td>\n",
       "    </tr>\n",
       "    <tr>\n",
       "      <th>8</th>\n",
       "      <td>0.22</td>\n",
       "      <td>1.46</td>\n",
       "      <td>4.95</td>\n",
       "      <td>0.38</td>\n",
       "    </tr>\n",
       "    <tr>\n",
       "      <th>9</th>\n",
       "      <td>0.01</td>\n",
       "      <td>17.23</td>\n",
       "      <td>0.01</td>\n",
       "      <td>0.99</td>\n",
       "    </tr>\n",
       "    <tr>\n",
       "      <th>10</th>\n",
       "      <td>0.24</td>\n",
       "      <td>43.97</td>\n",
       "      <td>0.34</td>\n",
       "      <td>3.33</td>\n",
       "    </tr>\n",
       "  </tbody>\n",
       "</table>\n",
       "</div>"
      ],
      "text/plain": [
       "Area      Alpines  Hamoun   Mead  Tibet\n",
       "Variable                               \n",
       "2            0.32    1.45   0.01  19.25\n",
       "3            0.07    9.83  37.36   0.22\n",
       "4            0.92   13.33   0.31   2.56\n",
       "5            1.09    3.30   0.06   5.46\n",
       "6            0.67    8.62   1.76   1.52\n",
       "7            0.04    0.02   0.00   0.75\n",
       "8            0.22    1.46   4.95   0.38\n",
       "9            0.01   17.23   0.01   0.99\n",
       "10           0.24   43.97   0.34   3.33"
      ]
     },
     "execution_count": 94,
     "metadata": {},
     "output_type": "execute_result"
    }
   ],
   "source": [
    "# Take value 1 off and plot the result\n",
    "Percent3 = Percent2.drop(1, axis=0)\n",
    "Percent3"
   ]
  },
  {
   "cell_type": "code",
   "execution_count": 97,
   "metadata": {},
   "outputs": [
    {
     "data": {
      "text/html": [
       "<div>\n",
       "<style scoped>\n",
       "    .dataframe tbody tr th:only-of-type {\n",
       "        vertical-align: middle;\n",
       "    }\n",
       "\n",
       "    .dataframe tbody tr th {\n",
       "        vertical-align: top;\n",
       "    }\n",
       "\n",
       "    .dataframe thead th {\n",
       "        text-align: right;\n",
       "    }\n",
       "</style>\n",
       "<table border=\"1\" class=\"dataframe\">\n",
       "  <thead>\n",
       "    <tr style=\"text-align: right;\">\n",
       "      <th>Area</th>\n",
       "      <th>Alpines</th>\n",
       "      <th>Hamoun</th>\n",
       "      <th>Mead</th>\n",
       "      <th>Tibet</th>\n",
       "    </tr>\n",
       "  </thead>\n",
       "  <tbody>\n",
       "    <tr>\n",
       "      <th>count</th>\n",
       "      <td>9.000000</td>\n",
       "      <td>9.000000</td>\n",
       "      <td>9.000000</td>\n",
       "      <td>9.000000</td>\n",
       "    </tr>\n",
       "    <tr>\n",
       "      <th>mean</th>\n",
       "      <td>0.397778</td>\n",
       "      <td>11.023333</td>\n",
       "      <td>4.977778</td>\n",
       "      <td>3.828889</td>\n",
       "    </tr>\n",
       "    <tr>\n",
       "      <th>std</th>\n",
       "      <td>0.399117</td>\n",
       "      <td>13.694687</td>\n",
       "      <td>12.250412</td>\n",
       "      <td>6.022031</td>\n",
       "    </tr>\n",
       "    <tr>\n",
       "      <th>min</th>\n",
       "      <td>0.010000</td>\n",
       "      <td>0.020000</td>\n",
       "      <td>0.000000</td>\n",
       "      <td>0.220000</td>\n",
       "    </tr>\n",
       "    <tr>\n",
       "      <th>25%</th>\n",
       "      <td>0.070000</td>\n",
       "      <td>1.460000</td>\n",
       "      <td>0.010000</td>\n",
       "      <td>0.750000</td>\n",
       "    </tr>\n",
       "    <tr>\n",
       "      <th>50%</th>\n",
       "      <td>0.240000</td>\n",
       "      <td>8.620000</td>\n",
       "      <td>0.310000</td>\n",
       "      <td>1.520000</td>\n",
       "    </tr>\n",
       "    <tr>\n",
       "      <th>75%</th>\n",
       "      <td>0.670000</td>\n",
       "      <td>13.330000</td>\n",
       "      <td>1.760000</td>\n",
       "      <td>3.330000</td>\n",
       "    </tr>\n",
       "    <tr>\n",
       "      <th>max</th>\n",
       "      <td>1.090000</td>\n",
       "      <td>43.970000</td>\n",
       "      <td>37.360000</td>\n",
       "      <td>19.250000</td>\n",
       "    </tr>\n",
       "  </tbody>\n",
       "</table>\n",
       "</div>"
      ],
      "text/plain": [
       "Area    Alpines     Hamoun       Mead      Tibet\n",
       "count  9.000000   9.000000   9.000000   9.000000\n",
       "mean   0.397778  11.023333   4.977778   3.828889\n",
       "std    0.399117  13.694687  12.250412   6.022031\n",
       "min    0.010000   0.020000   0.000000   0.220000\n",
       "25%    0.070000   1.460000   0.010000   0.750000\n",
       "50%    0.240000   8.620000   0.310000   1.520000\n",
       "75%    0.670000  13.330000   1.760000   3.330000\n",
       "max    1.090000  43.970000  37.360000  19.250000"
      ]
     },
     "execution_count": 97,
     "metadata": {},
     "output_type": "execute_result"
    }
   ],
   "source": [
    "# describe the data above\n",
    "Percent3.describe()"
   ]
  },
  {
   "cell_type": "code",
   "execution_count": 95,
   "metadata": {},
   "outputs": [
    {
     "data": {
      "image/png": "[encoded data removed]",
      "text/plain": [
       "<Figure size 432x288 with 1 Axes>"
      ]
     },
     "metadata": {
      "needs_background": "light"
     },
     "output_type": "display_data"
    }
   ],
   "source": [
    "# Plot of the percentage data distribution and std, without the value 1 data\n",
    "plt.hist(Percent3[\"Tibet\"], alpha=0.5, label='Tibet')\n",
    "plt.axvline(Percent3[\"Tibet\"].std(),linestyle=\"solid\", color=\"blue\",  linewidth=3)\n",
    "plt.hist(Percent3[\"Hamoun\"], alpha=0.5, label='Hamoun')\n",
    "plt.axvline(Percent3[\"Hamoun\"].std(),linestyle=\"solid\", color=\"orange\", linewidth=2)\n",
    "plt.hist(Percent3[\"Mead\"], alpha=0.5, label='Mead') \n",
    "plt.axvline(Percent3[\"Mead\"].std(),linestyle=\"solid\", color=\"green\", linewidth=3)\n",
    "plt.hist(Percent3[\"Alpines\"], alpha=0.5, label='Alpines')\n",
    "plt.axvline(Percent3[\"Alpines\"].std(),linestyle=\"solid\", color=\"red\", linewidth=2)\n",
    "\n",
    "\n",
    "plt.xlabel(\"Variables\", fontsize=14)\n",
    "plt.ylabel(\"Transition Values\", fontsize=14)\n",
    "plt.title(\"Distribution and STD of Transitional Changes\", fontsize=18)\n",
    "\n",
    "\n",
    "plt.legend(loc='upper right') \n",
    "plt.show()"
   ]
  },
  {
   "cell_type": "markdown",
   "metadata": {},
   "source": [
    "The graph bellow shows the distribution of the percentage data, the standard deviation values are shown as solid bars. "
   ]
  },
  {
   "cell_type": "markdown",
   "metadata": {},
   "source": [
    "<a id='Answers'></a>\n",
    "## <center>Answers</center>\n",
    "\n",
    "Note that the area for each transitional value could be easily converted into square meters. Each pixel has a 30m * 30m dimension, therefore, we can calculate the area by multiplying the count of pixels for each value by 900. \n",
    "\n",
    "\n",
    "<h4 style=\"font-family:times\">1.Which AOI had the highest water gain?</h4>\n",
    "\n",
    "It is as important to know where there is new water as it is to know where water has been resilient. Therefore, this answer might further break into two to account for the water that was never lost. To answer this questions, I will focus on four transitional values:\n",
    "\n",
    "1 Unchanged permanent water<br>\n",
    "4 Unchanged seasonal water\n",
    "\n",
    "2 New permanent water<br>\n",
    "5 New seasonal water\n",
    "\n",
    "The Alpine's lakes had the highest percentage of unchanged permanent or seasonal water by adding up to 97.34, followed by the Tibet's water bodies with 68.1%, lake Mead with 55.50% and Hamoun with 14.12%.\n",
    "\n",
    "For the appearance of new water, which indicates a conversation of land into permanent and seasonal water, the data showed the Tibet's lakes with the highest percentage of 24.71, followed by lake Hamoun with 4.75%, the Alpine's lakes with 1.41, and lake Mead with 0.07%. \n",
    "\n",
    "The Alpine Lakes are located between Italy and Switzerland, they are deep into the step glacial valleys making it a region of high river inflow, regular rainfall and limited access for water extraction. These environmental and topographical characteristics are responsible for the high presence of permanent surface water.  \n",
    "\n",
    "The water bodies at the Tibetan Plateau, present the second highest percentage of unchanged permanent and seasonal water and the highest percentage of new permanent and seasonal water. However, the reason for such unchanging and changing data differs from that of the Alpine's lakes. The endorheic basin, at the Tibetan Plateau, has been expanding for the last 30 years due increasing of run-off and precipitation into the basin. This phenomenon is most likely linked to an increase of temperatures causing the snow and glaciers to melt.\n",
    "\n",
    "Lake Mead, located east of Las Vegas, showed the third largest combined percentage on unchanged permanent and seasonal water. However, this position implies that the permanent water state of the lake is changing, this is linked to long droughts in the region and to a high water demand from this body of water. \n",
    "\n",
    "Lake Hamoun, located between Afghanistan and Iran showed the lowest percentage of combined unchanged permanent and seasonal surface water (14%) followed by a very low percentage of transition changes into permanent or seasonal water (4.75%). Lake Hamoun has been affected by drought and anthropogenic disturbances, most of its permanent water, from the once upon the time oasis, has transition into ephemeral water bodies (44%).\n",
    "\n",
    "Unchanged permanent surface water and surface water that transitions into permanent water, might not always tell a story of success and resilience. Depending on the root of the cause and the region, a change from where once was only land, into water, might be showing signs of effects of climate change, environmental and/or anthropogenic disturbances. \n",
    "\n",
    "\n",
    "<h4 style=\"font-family:times\">2.Which AOI had the highest loss of water?</h4>\n",
    "\n",
    "To address this question, I will focus in the statistics of the following two values:\n",
    "\n",
    "3 Permanent loss water\n",
    "6 Permanent loss of seasonal water\n",
    "\n",
    "The lost permanent water surfaces represent a conversion of permanent water into land as for the lost seasonal water. \n",
    "\n",
    "Lake Mead had the highest combined percentage for these two values, 39.12%, followed by lake Hamoun, the Tibetan lakes, and the Alpine's lakes. 18.45%, 1.74%, and 0.74%, respectively. \n",
    "\n",
    "As previously stated, Lake Mead and Hamoun have been exposed to drought and high demand of water for human related activities, most likely linked to the loss of water presented in the data. \n",
    "\n",
    "\n",
    "<h4 style=\"font-family:times\">3.Which AOIs had the highest and lowest transitional variation?</h4>\n",
    "\n",
    "To answer this question, lets refer back to the distribution and standard deviation values of the percentage data, making emphasis on the data where the value 1 was drop out of the dataset. \n",
    "\n",
    "As expected, the Alpine's lakes had the least variation (0.4), shown by the standard variation values, most likely due to that 96% of its values stayed as permanent water. Followed by the Tibet (6.02), lake Mead (12.25), and lake Hamoun (13.70). \n",
    "\n",
    "As previously mention, lake Hamoun has been affected by environmental and anthropogenic disturbance. Most of its water is observed as ephemeral surface water, meaning that small bodies of water form after precipitation and rapidly change or disappear due to demand or evaporation. This constant changes are most likely responsable for the high variability in transitional values for this particular region. \n"
   ]
  },
  {
   "cell_type": "markdown",
   "metadata": {},
   "source": [
    "<a id='WhatFurther'></a>\n",
    "## <center>Proposed Further Research</center>\n",
    "\n",
    "One of the takes away from exploring this dataset is that surface water around the world presents different behavior depending on its location, the environmental and anthropogenic factors that surround them. Datasets like the present allows to get an insight into an overall state of the surface water at respective areas of interest. However, it is important to note that this data does not tell the history of what happened in between and does not show what triggered the changes we observed. \n",
    "\n",
    "With this information on hand and taking advantage of the data made available by The European Commission's Joint Research Centre, I would further take this study and look at the time series of the areas of interest covered here and calculate water trends, aiming to pin point when within the last 32 year the transitional changes took place. "
   ]
  },
  {
   "cell_type": "code",
   "execution_count": null,
   "metadata": {},
   "outputs": [],
   "source": []
  }
 ],
 "metadata": {
  "kernelspec": {
   "display_name": "Python 3",
   "language": "python",
   "name": "python3"
  },
  "language_info": {
   "codemirror_mode": {
    "name": "ipython",
    "version": 3
   },
   "file_extension": ".py",
   "mimetype": "text/x-python",
   "name": "python",
   "nbconvert_exporter": "python",
   "pygments_lexer": "ipython3",
   "version": "3.7.3"
  }
 },
 "nbformat": 4,
 "nbformat_minor": 2
}
