{
 "cells": [
  {
   "cell_type": "code",
   "execution_count": 1,
   "metadata": {},
   "outputs": [],
   "source": [
    "import numpy as np\n",
    "import pandas as pd\n",
    "import seaborn as sns\n",
    "import matplotlib.pyplot as plt\n",
    "from scipy import stats\n",
    "import re"
   ]
  },
  {
   "cell_type": "code",
   "execution_count": 2,
   "metadata": {},
   "outputs": [
    {
     "data": {
      "text/html": [
       "<div>\n",
       "<style scoped>\n",
       "    .dataframe tbody tr th:only-of-type {\n",
       "        vertical-align: middle;\n",
       "    }\n",
       "\n",
       "    .dataframe tbody tr th {\n",
       "        vertical-align: top;\n",
       "    }\n",
       "\n",
       "    .dataframe thead th {\n",
       "        text-align: right;\n",
       "    }\n",
       "</style>\n",
       "<table border=\"1\" class=\"dataframe\">\n",
       "  <thead>\n",
       "    <tr style=\"text-align: right;\">\n",
       "      <th></th>\n",
       "      <th>PMID/PMCID</th>\n",
       "      <th>Publisher</th>\n",
       "      <th>Journal title</th>\n",
       "      <th>Article title</th>\n",
       "      <th>COST (£) charged to Wellcome (inc VAT when charged)</th>\n",
       "    </tr>\n",
       "  </thead>\n",
       "  <tbody>\n",
       "    <tr>\n",
       "      <th>0</th>\n",
       "      <td>NaN</td>\n",
       "      <td>CUP</td>\n",
       "      <td>Psychological Medicine</td>\n",
       "      <td>Reduced parahippocampal cortical thickness in ...</td>\n",
       "      <td>£0.00</td>\n",
       "    </tr>\n",
       "    <tr>\n",
       "      <th>1</th>\n",
       "      <td>PMC3679557</td>\n",
       "      <td>ACS</td>\n",
       "      <td>Biomacromolecules</td>\n",
       "      <td>Structural characterization of a Model Gram-ne...</td>\n",
       "      <td>£2381.04</td>\n",
       "    </tr>\n",
       "    <tr>\n",
       "      <th>2</th>\n",
       "      <td>23043264  PMC3506128</td>\n",
       "      <td>ACS</td>\n",
       "      <td>J Med Chem</td>\n",
       "      <td>Fumaroylamino-4,5-epoxymorphinans and related ...</td>\n",
       "      <td>£642.56</td>\n",
       "    </tr>\n",
       "    <tr>\n",
       "      <th>3</th>\n",
       "      <td>23438330 PMC3646402</td>\n",
       "      <td>ACS</td>\n",
       "      <td>J Med Chem</td>\n",
       "      <td>Orvinols with mixed kappa/mu opioid receptor a...</td>\n",
       "      <td>£669.64</td>\n",
       "    </tr>\n",
       "    <tr>\n",
       "      <th>4</th>\n",
       "      <td>23438216 PMC3601604</td>\n",
       "      <td>ACS</td>\n",
       "      <td>J Org Chem</td>\n",
       "      <td>Regioselective opening of myo-inositol orthoes...</td>\n",
       "      <td>£685.88</td>\n",
       "    </tr>\n",
       "  </tbody>\n",
       "</table>\n",
       "</div>"
      ],
      "text/plain": [
       "              PMID/PMCID Publisher           Journal title  \\\n",
       "0                    NaN       CUP  Psychological Medicine   \n",
       "1             PMC3679557       ACS       Biomacromolecules   \n",
       "2  23043264  PMC3506128        ACS              J Med Chem   \n",
       "3    23438330 PMC3646402       ACS              J Med Chem   \n",
       "4   23438216 PMC3601604        ACS              J Org Chem   \n",
       "\n",
       "                                       Article title  \\\n",
       "0  Reduced parahippocampal cortical thickness in ...   \n",
       "1  Structural characterization of a Model Gram-ne...   \n",
       "2  Fumaroylamino-4,5-epoxymorphinans and related ...   \n",
       "3  Orvinols with mixed kappa/mu opioid receptor a...   \n",
       "4  Regioselective opening of myo-inositol orthoes...   \n",
       "\n",
       "  COST (£) charged to Wellcome (inc VAT when charged)  \n",
       "0                                              £0.00   \n",
       "1                                           £2381.04   \n",
       "2                                            £642.56   \n",
       "3                                            £669.64   \n",
       "4                                            £685.88   "
      ]
     },
     "execution_count": 2,
     "metadata": {},
     "output_type": "execute_result"
    }
   ],
   "source": [
    "df = pd.read_csv (\"/Users/nataliaagudelo/Desktop/Classes/thinkful/DataScienceBootCamp/Unit1/ManipulatingString/WELLCOME/WELLCOME_APCspend2013_forThinkful.csv\",\n",
    "                 encoding = 'unicode_escape')\n",
    "                 #usecols =[\"PMID/PMCID\",\"Publisher\",\"Journal title\",\"Article title\", \"COST (£) charged to Wellcome (inc VAT when charged)\"]\n",
    "                 \n",
    "df.head()"
   ]
  },
  {
   "cell_type": "code",
   "execution_count": 3,
   "metadata": {},
   "outputs": [
    {
     "data": {
      "text/html": [
       "<div>\n",
       "<style scoped>\n",
       "    .dataframe tbody tr th:only-of-type {\n",
       "        vertical-align: middle;\n",
       "    }\n",
       "\n",
       "    .dataframe tbody tr th {\n",
       "        vertical-align: top;\n",
       "    }\n",
       "\n",
       "    .dataframe thead th {\n",
       "        text-align: right;\n",
       "    }\n",
       "</style>\n",
       "<table border=\"1\" class=\"dataframe\">\n",
       "  <thead>\n",
       "    <tr style=\"text-align: right;\">\n",
       "      <th></th>\n",
       "      <th>PMID/PMCID</th>\n",
       "      <th>Publisher</th>\n",
       "      <th>Journaltitle</th>\n",
       "      <th>Articletitle</th>\n",
       "      <th>COSTchargedtoWellcomeincVATwhencharged</th>\n",
       "    </tr>\n",
       "  </thead>\n",
       "  <tbody>\n",
       "    <tr>\n",
       "      <th>0</th>\n",
       "      <td>NaN</td>\n",
       "      <td>CUP</td>\n",
       "      <td>Psychological Medicine</td>\n",
       "      <td>Reduced parahippocampal cortical thickness in ...</td>\n",
       "      <td>£0.00</td>\n",
       "    </tr>\n",
       "    <tr>\n",
       "      <th>1</th>\n",
       "      <td>PMC3679557</td>\n",
       "      <td>ACS</td>\n",
       "      <td>Biomacromolecules</td>\n",
       "      <td>Structural characterization of a Model Gram-ne...</td>\n",
       "      <td>£2381.04</td>\n",
       "    </tr>\n",
       "    <tr>\n",
       "      <th>2</th>\n",
       "      <td>23043264  PMC3506128</td>\n",
       "      <td>ACS</td>\n",
       "      <td>J Med Chem</td>\n",
       "      <td>Fumaroylamino-4,5-epoxymorphinans and related ...</td>\n",
       "      <td>£642.56</td>\n",
       "    </tr>\n",
       "    <tr>\n",
       "      <th>3</th>\n",
       "      <td>23438330 PMC3646402</td>\n",
       "      <td>ACS</td>\n",
       "      <td>J Med Chem</td>\n",
       "      <td>Orvinols with mixed kappa/mu opioid receptor a...</td>\n",
       "      <td>£669.64</td>\n",
       "    </tr>\n",
       "    <tr>\n",
       "      <th>4</th>\n",
       "      <td>23438216 PMC3601604</td>\n",
       "      <td>ACS</td>\n",
       "      <td>J Org Chem</td>\n",
       "      <td>Regioselective opening of myo-inositol orthoes...</td>\n",
       "      <td>£685.88</td>\n",
       "    </tr>\n",
       "  </tbody>\n",
       "</table>\n",
       "</div>"
      ],
      "text/plain": [
       "              PMID/PMCID Publisher            Journaltitle  \\\n",
       "0                    NaN       CUP  Psychological Medicine   \n",
       "1             PMC3679557       ACS       Biomacromolecules   \n",
       "2  23043264  PMC3506128        ACS              J Med Chem   \n",
       "3    23438330 PMC3646402       ACS              J Med Chem   \n",
       "4   23438216 PMC3601604        ACS              J Org Chem   \n",
       "\n",
       "                                        Articletitle  \\\n",
       "0  Reduced parahippocampal cortical thickness in ...   \n",
       "1  Structural characterization of a Model Gram-ne...   \n",
       "2  Fumaroylamino-4,5-epoxymorphinans and related ...   \n",
       "3  Orvinols with mixed kappa/mu opioid receptor a...   \n",
       "4  Regioselective opening of myo-inositol orthoes...   \n",
       "\n",
       "  COSTchargedtoWellcomeincVATwhencharged  \n",
       "0                                  £0.00  \n",
       "1                               £2381.04  \n",
       "2                                £642.56  \n",
       "3                                £669.64  \n",
       "4                                £685.88  "
      ]
     },
     "execution_count": 3,
     "metadata": {},
     "output_type": "execute_result"
    }
   ],
   "source": [
    "# Replace or get rid of spaces in titles\n",
    "# spaces usually give trouble\n",
    "#df.columns = df.columns.str.replace({' ':'','£':'','(':'', ')':''}, regex=True)\n",
    "df.columns = df.columns.str.replace(' ','')\n",
    "df.columns = df.columns.str.replace('£','')\n",
    "df.columns = df.columns.str.replace('(','')\n",
    "df.columns = df.columns.str.replace(')','')\n",
    "\n",
    "df.head()\n"
   ]
  },
  {
   "cell_type": "code",
   "execution_count": 4,
   "metadata": {
    "scrolled": true
   },
   "outputs": [
    {
     "data": {
      "text/html": [
       "<div>\n",
       "<style scoped>\n",
       "    .dataframe tbody tr th:only-of-type {\n",
       "        vertical-align: middle;\n",
       "    }\n",
       "\n",
       "    .dataframe tbody tr th {\n",
       "        vertical-align: top;\n",
       "    }\n",
       "\n",
       "    .dataframe thead th {\n",
       "        text-align: right;\n",
       "    }\n",
       "</style>\n",
       "<table border=\"1\" class=\"dataframe\">\n",
       "  <thead>\n",
       "    <tr style=\"text-align: right;\">\n",
       "      <th></th>\n",
       "      <th>PMID/PMCID</th>\n",
       "      <th>Publisher</th>\n",
       "      <th>Journaltitle</th>\n",
       "      <th>Articletitle</th>\n",
       "      <th>COST</th>\n",
       "    </tr>\n",
       "  </thead>\n",
       "  <tbody>\n",
       "    <tr>\n",
       "      <th>0</th>\n",
       "      <td>NaN</td>\n",
       "      <td>CUP</td>\n",
       "      <td>Psychological Medicine</td>\n",
       "      <td>Reduced parahippocampal cortical thickness in ...</td>\n",
       "      <td>£0.00</td>\n",
       "    </tr>\n",
       "    <tr>\n",
       "      <th>1</th>\n",
       "      <td>PMC3679557</td>\n",
       "      <td>ACS</td>\n",
       "      <td>Biomacromolecules</td>\n",
       "      <td>Structural characterization of a Model Gram-ne...</td>\n",
       "      <td>£2381.04</td>\n",
       "    </tr>\n",
       "    <tr>\n",
       "      <th>2</th>\n",
       "      <td>23043264  PMC3506128</td>\n",
       "      <td>ACS</td>\n",
       "      <td>J Med Chem</td>\n",
       "      <td>Fumaroylamino-4,5-epoxymorphinans and related ...</td>\n",
       "      <td>£642.56</td>\n",
       "    </tr>\n",
       "    <tr>\n",
       "      <th>3</th>\n",
       "      <td>23438330 PMC3646402</td>\n",
       "      <td>ACS</td>\n",
       "      <td>J Med Chem</td>\n",
       "      <td>Orvinols with mixed kappa/mu opioid receptor a...</td>\n",
       "      <td>£669.64</td>\n",
       "    </tr>\n",
       "    <tr>\n",
       "      <th>4</th>\n",
       "      <td>23438216 PMC3601604</td>\n",
       "      <td>ACS</td>\n",
       "      <td>J Org Chem</td>\n",
       "      <td>Regioselective opening of myo-inositol orthoes...</td>\n",
       "      <td>£685.88</td>\n",
       "    </tr>\n",
       "  </tbody>\n",
       "</table>\n",
       "</div>"
      ],
      "text/plain": [
       "              PMID/PMCID Publisher            Journaltitle  \\\n",
       "0                    NaN       CUP  Psychological Medicine   \n",
       "1             PMC3679557       ACS       Biomacromolecules   \n",
       "2  23043264  PMC3506128        ACS              J Med Chem   \n",
       "3    23438330 PMC3646402       ACS              J Med Chem   \n",
       "4   23438216 PMC3601604        ACS              J Org Chem   \n",
       "\n",
       "                                        Articletitle      COST  \n",
       "0  Reduced parahippocampal cortical thickness in ...     £0.00  \n",
       "1  Structural characterization of a Model Gram-ne...  £2381.04  \n",
       "2  Fumaroylamino-4,5-epoxymorphinans and related ...   £642.56  \n",
       "3  Orvinols with mixed kappa/mu opioid receptor a...   £669.64  \n",
       "4  Regioselective opening of myo-inositol orthoes...   £685.88  "
      ]
     },
     "execution_count": 4,
     "metadata": {},
     "output_type": "execute_result"
    }
   ],
   "source": [
    "# Rename a single columns that is giving us trouble\n",
    "df.rename({'COSTchargedtoWellcomeincVATwhencharged':'COST'}, axis='columns', inplace=True)\n",
    "df.head()"
   ]
  },
  {
   "cell_type": "code",
   "execution_count": 5,
   "metadata": {},
   "outputs": [
    {
     "data": {
      "text/html": [
       "<div>\n",
       "<style scoped>\n",
       "    .dataframe tbody tr th:only-of-type {\n",
       "        vertical-align: middle;\n",
       "    }\n",
       "\n",
       "    .dataframe tbody tr th {\n",
       "        vertical-align: top;\n",
       "    }\n",
       "\n",
       "    .dataframe thead th {\n",
       "        text-align: right;\n",
       "    }\n",
       "</style>\n",
       "<table border=\"1\" class=\"dataframe\">\n",
       "  <thead>\n",
       "    <tr style=\"text-align: right;\">\n",
       "      <th></th>\n",
       "      <th>PMID/PMCID</th>\n",
       "      <th>Publisher</th>\n",
       "      <th>Journaltitle</th>\n",
       "      <th>Articletitle</th>\n",
       "      <th>COST</th>\n",
       "    </tr>\n",
       "  </thead>\n",
       "  <tbody>\n",
       "    <tr>\n",
       "      <th>0</th>\n",
       "      <td>NaN</td>\n",
       "      <td>CUP</td>\n",
       "      <td>Psychological Medicine</td>\n",
       "      <td>Reduced parahippocampal cortical thickness in ...</td>\n",
       "      <td>0.00</td>\n",
       "    </tr>\n",
       "    <tr>\n",
       "      <th>1</th>\n",
       "      <td>PMC3679557</td>\n",
       "      <td>ACS</td>\n",
       "      <td>Biomacromolecules</td>\n",
       "      <td>Structural characterization of a Model Gram-ne...</td>\n",
       "      <td>2381.04</td>\n",
       "    </tr>\n",
       "    <tr>\n",
       "      <th>2</th>\n",
       "      <td>23043264  PMC3506128</td>\n",
       "      <td>ACS</td>\n",
       "      <td>J Med Chem</td>\n",
       "      <td>Fumaroylamino-4,5-epoxymorphinans and related ...</td>\n",
       "      <td>642.56</td>\n",
       "    </tr>\n",
       "    <tr>\n",
       "      <th>3</th>\n",
       "      <td>23438330 PMC3646402</td>\n",
       "      <td>ACS</td>\n",
       "      <td>J Med Chem</td>\n",
       "      <td>Orvinols with mixed kappa/mu opioid receptor a...</td>\n",
       "      <td>669.64</td>\n",
       "    </tr>\n",
       "    <tr>\n",
       "      <th>4</th>\n",
       "      <td>23438216 PMC3601604</td>\n",
       "      <td>ACS</td>\n",
       "      <td>J Org Chem</td>\n",
       "      <td>Regioselective opening of myo-inositol orthoes...</td>\n",
       "      <td>685.88</td>\n",
       "    </tr>\n",
       "  </tbody>\n",
       "</table>\n",
       "</div>"
      ],
      "text/plain": [
       "              PMID/PMCID Publisher            Journaltitle  \\\n",
       "0                    NaN       CUP  Psychological Medicine   \n",
       "1             PMC3679557       ACS       Biomacromolecules   \n",
       "2  23043264  PMC3506128        ACS              J Med Chem   \n",
       "3    23438330 PMC3646402       ACS              J Med Chem   \n",
       "4   23438216 PMC3601604        ACS              J Org Chem   \n",
       "\n",
       "                                        Articletitle     COST  \n",
       "0  Reduced parahippocampal cortical thickness in ...     0.00  \n",
       "1  Structural characterization of a Model Gram-ne...  2381.04  \n",
       "2  Fumaroylamino-4,5-epoxymorphinans and related ...   642.56  \n",
       "3  Orvinols with mixed kappa/mu opioid receptor a...   669.64  \n",
       "4  Regioselective opening of myo-inositol orthoes...   685.88  "
      ]
     },
     "execution_count": 5,
     "metadata": {},
     "output_type": "execute_result"
    }
   ],
   "source": [
    "# Get rid of the Euro sign under the COST column\n",
    "df['COST']=df.COST.str.replace('£', '')\n",
    "df.head()"
   ]
  },
  {
   "cell_type": "code",
   "execution_count": 6,
   "metadata": {},
   "outputs": [
    {
     "data": {
      "text/plain": [
       "PLoS One                                                     92\n",
       "PLoS ONE                                                     62\n",
       "Journal of Biological Chemistry                              48\n",
       "Nucleic Acids Research                                       21\n",
       "Proceedings of the National Academy of Sciences              19\n",
       "Human Molecular Genetics                                     18\n",
       "PLoS Neglected Tropical Diseases                             18\n",
       "Nature Communications                                        17\n",
       "PLoS Genetics                                                15\n",
       "Neuroimage                                                   15\n",
       "PLoS Pathogens                                               15\n",
       "NeuroImage                                                   14\n",
       "BMC Public Health                                            14\n",
       "PLOS ONE                                                     14\n",
       "Brain                                                        14\n",
       "Movement Disorders                                           13\n",
       "Biochemical Journal                                          12\n",
       "Developmental Cell                                           12\n",
       "Journal of Neuroscience                                      12\n",
       "Journal of General Virology                                  11\n",
       "Current Biology                                              10\n",
       "PLOS One                                                     10\n",
       "BMJ                                                          10\n",
       "Cell Reports                                                  9\n",
       "Neuron                                                        9\n",
       "Journal of Structural Biology                                 8\n",
       "Journal of Cell Science                                       8\n",
       "Journal of Virology                                           8\n",
       "Neurobiology of Aging                                         8\n",
       "Journal of Clinical Endocrinology and Metabolism              8\n",
       "                                                             ..\n",
       "Photochemical & Photobiological Sciences                      1\n",
       "G3: Genes, Genomes, Genetics                                  1\n",
       "Journal of Neuroendocrinology                                 1\n",
       "Arthritis Research & Therapy                                  1\n",
       "Expert Reviews in Anti-infective Chemotherapy                 1\n",
       "Nephron Physiology                                            1\n",
       "Nephrology Dialysis and Transplantation                       1\n",
       "N Biotechnol.                                                 1\n",
       "Journal of the Association for Research in Otolaryngology     1\n",
       "Nucleic Acids Research\\n                                      1\n",
       "Hum Resour Health                                             1\n",
       "Biomedical Microdevices                                       1\n",
       "ChemMedChem                                                   1\n",
       "The EMBO Journal                                              1\n",
       "Microbes and Infection                                        1\n",
       "Frontiers in Immunology                                       1\n",
       "Acta Crystallographica, Section D                             1\n",
       "Public Service Review                                         1\n",
       "BMC Medical Ethics                                            1\n",
       "The Journal of investigative dermatology                      1\n",
       "Development Science                                           1\n",
       "Human Mutation: Variation, Informatics, and Disease           1\n",
       "THORAX an international journal for Respiratory Medicine      1\n",
       "Azania: Archaeological Research in Africa                     1\n",
       "genesis: Journal of Genetics                                  1\n",
       "British journal of Clinical Pharmacology                      1\n",
       "Frontiers in Cognition                                        1\n",
       "BioSocieties                                                  1\n",
       "Cell Adhesion and Migration                                   1\n",
       "Plos one                                                      1\n",
       "Name: Journaltitle, Length: 984, dtype: int64"
      ]
     },
     "execution_count": 6,
     "metadata": {},
     "output_type": "execute_result"
    }
   ],
   "source": [
    "# Get top 5 most populat journals and their counts\n",
    "df.Journaltitle.value_counts()"
   ]
  },
  {
   "cell_type": "markdown",
   "metadata": {},
   "source": [
    "Journal PLOS ONE has different spellings. In case the same is happening to other journals, change all the different names into one normalize format to get an accurate count."
   ]
  },
  {
   "cell_type": "code",
   "execution_count": 7,
   "metadata": {},
   "outputs": [
    {
     "data": {
      "text/html": [
       "<div>\n",
       "<style scoped>\n",
       "    .dataframe tbody tr th:only-of-type {\n",
       "        vertical-align: middle;\n",
       "    }\n",
       "\n",
       "    .dataframe tbody tr th {\n",
       "        vertical-align: top;\n",
       "    }\n",
       "\n",
       "    .dataframe thead th {\n",
       "        text-align: right;\n",
       "    }\n",
       "</style>\n",
       "<table border=\"1\" class=\"dataframe\">\n",
       "  <thead>\n",
       "    <tr style=\"text-align: right;\">\n",
       "      <th></th>\n",
       "      <th>PMID/PMCID</th>\n",
       "      <th>Publisher</th>\n",
       "      <th>Journaltitle</th>\n",
       "      <th>Articletitle</th>\n",
       "      <th>COST</th>\n",
       "    </tr>\n",
       "  </thead>\n",
       "  <tbody>\n",
       "    <tr>\n",
       "      <th>0</th>\n",
       "      <td>NaN</td>\n",
       "      <td>CUP</td>\n",
       "      <td>Psychological medicine</td>\n",
       "      <td>Reduced parahippocampal cortical thickness in ...</td>\n",
       "      <td>0.00</td>\n",
       "    </tr>\n",
       "    <tr>\n",
       "      <th>1</th>\n",
       "      <td>PMC3679557</td>\n",
       "      <td>ACS</td>\n",
       "      <td>Biomacromolecules</td>\n",
       "      <td>Structural characterization of a Model Gram-ne...</td>\n",
       "      <td>2381.04</td>\n",
       "    </tr>\n",
       "    <tr>\n",
       "      <th>2</th>\n",
       "      <td>23043264  PMC3506128</td>\n",
       "      <td>ACS</td>\n",
       "      <td>J med chem</td>\n",
       "      <td>Fumaroylamino-4,5-epoxymorphinans and related ...</td>\n",
       "      <td>642.56</td>\n",
       "    </tr>\n",
       "    <tr>\n",
       "      <th>3</th>\n",
       "      <td>23438330 PMC3646402</td>\n",
       "      <td>ACS</td>\n",
       "      <td>J med chem</td>\n",
       "      <td>Orvinols with mixed kappa/mu opioid receptor a...</td>\n",
       "      <td>669.64</td>\n",
       "    </tr>\n",
       "    <tr>\n",
       "      <th>4</th>\n",
       "      <td>23438216 PMC3601604</td>\n",
       "      <td>ACS</td>\n",
       "      <td>J org chem</td>\n",
       "      <td>Regioselective opening of myo-inositol orthoes...</td>\n",
       "      <td>685.88</td>\n",
       "    </tr>\n",
       "  </tbody>\n",
       "</table>\n",
       "</div>"
      ],
      "text/plain": [
       "              PMID/PMCID Publisher            Journaltitle  \\\n",
       "0                    NaN       CUP  Psychological medicine   \n",
       "1             PMC3679557       ACS       Biomacromolecules   \n",
       "2  23043264  PMC3506128        ACS              J med chem   \n",
       "3    23438330 PMC3646402       ACS              J med chem   \n",
       "4   23438216 PMC3601604        ACS              J org chem   \n",
       "\n",
       "                                        Articletitle     COST  \n",
       "0  Reduced parahippocampal cortical thickness in ...     0.00  \n",
       "1  Structural characterization of a Model Gram-ne...  2381.04  \n",
       "2  Fumaroylamino-4,5-epoxymorphinans and related ...   642.56  \n",
       "3  Orvinols with mixed kappa/mu opioid receptor a...   669.64  \n",
       "4  Regioselective opening of myo-inositol orthoes...   685.88  "
      ]
     },
     "execution_count": 7,
     "metadata": {},
     "output_type": "execute_result"
    }
   ],
   "source": [
    "# Normalize the format of the name of the journals under Journaltitle\n",
    "df[\"Journaltitle\"]= df.Journaltitle.str.lower()\n",
    "df[\"Journaltitle\"]= df.Journaltitle.str.upper()\n",
    "df[\"Journaltitle\"]= df.Journaltitle.str.capitalize()\n",
    "df.head()"
   ]
  },
  {
   "cell_type": "code",
   "execution_count": 8,
   "metadata": {},
   "outputs": [
    {
     "data": {
      "text/plain": [
       "Plos one                           190\n",
       "Journal of biological chemistry     53\n",
       "Neuroimage                          29\n",
       "Plos pathogens                      24\n",
       "Plos genetics                       24\n",
       "Name: Journaltitle, dtype: int64"
      ]
     },
     "execution_count": 8,
     "metadata": {},
     "output_type": "execute_result"
    }
   ],
   "source": [
    "df.Journaltitle.value_counts().head()"
   ]
  },
  {
   "cell_type": "markdown",
   "metadata": {},
   "source": [
    "Above, are the five most common journals and the total articles for each. "
   ]
  },
  {
   "cell_type": "code",
   "execution_count": 9,
   "metadata": {},
   "outputs": [],
   "source": [
    "# dropping ALL duplicte values \n",
    "# drop from 320 to 319 :)\n",
    "#top_five.drop_duplicates(subset =\"Articletitle\")\n",
    "#top_five.tail()"
   ]
  },
  {
   "cell_type": "code",
   "execution_count": 11,
   "metadata": {},
   "outputs": [
    {
     "data": {
      "text/html": [
       "<div>\n",
       "<style scoped>\n",
       "    .dataframe tbody tr th:only-of-type {\n",
       "        vertical-align: middle;\n",
       "    }\n",
       "\n",
       "    .dataframe tbody tr th {\n",
       "        vertical-align: top;\n",
       "    }\n",
       "\n",
       "    .dataframe thead th {\n",
       "        text-align: right;\n",
       "    }\n",
       "</style>\n",
       "<table border=\"1\" class=\"dataframe\">\n",
       "  <thead>\n",
       "    <tr style=\"text-align: right;\">\n",
       "      <th></th>\n",
       "      <th>PMID/PMCID</th>\n",
       "      <th>Publisher</th>\n",
       "      <th>Journaltitle</th>\n",
       "      <th>Articletitle</th>\n",
       "      <th>COST</th>\n",
       "    </tr>\n",
       "  </thead>\n",
       "  <tbody>\n",
       "    <tr>\n",
       "      <th>0</th>\n",
       "      <td>NaN</td>\n",
       "      <td>CUP</td>\n",
       "      <td>Psychological medicine</td>\n",
       "      <td>Reduced parahippocampal cortical thickness in ...</td>\n",
       "      <td>0.00</td>\n",
       "    </tr>\n",
       "    <tr>\n",
       "      <th>1</th>\n",
       "      <td>PMC3679557</td>\n",
       "      <td>ACS</td>\n",
       "      <td>Biomacromolecules</td>\n",
       "      <td>Structural characterization of a Model Gram-ne...</td>\n",
       "      <td>2381.04</td>\n",
       "    </tr>\n",
       "    <tr>\n",
       "      <th>2</th>\n",
       "      <td>23043264  PMC3506128</td>\n",
       "      <td>ACS</td>\n",
       "      <td>J med chem</td>\n",
       "      <td>Fumaroylamino-4,5-epoxymorphinans and related ...</td>\n",
       "      <td>642.56</td>\n",
       "    </tr>\n",
       "    <tr>\n",
       "      <th>3</th>\n",
       "      <td>23438330 PMC3646402</td>\n",
       "      <td>ACS</td>\n",
       "      <td>J med chem</td>\n",
       "      <td>Orvinols with mixed kappa/mu opioid receptor a...</td>\n",
       "      <td>669.64</td>\n",
       "    </tr>\n",
       "    <tr>\n",
       "      <th>4</th>\n",
       "      <td>23438216 PMC3601604</td>\n",
       "      <td>ACS</td>\n",
       "      <td>J org chem</td>\n",
       "      <td>Regioselective opening of myo-inositol orthoes...</td>\n",
       "      <td>685.88</td>\n",
       "    </tr>\n",
       "  </tbody>\n",
       "</table>\n",
       "</div>"
      ],
      "text/plain": [
       "              PMID/PMCID Publisher            Journaltitle  \\\n",
       "0                    NaN       CUP  Psychological medicine   \n",
       "1             PMC3679557       ACS       Biomacromolecules   \n",
       "2  23043264  PMC3506128        ACS              J med chem   \n",
       "3    23438330 PMC3646402       ACS              J med chem   \n",
       "4   23438216 PMC3601604        ACS              J org chem   \n",
       "\n",
       "                                        Articletitle     COST  \n",
       "0  Reduced parahippocampal cortical thickness in ...     0.00  \n",
       "1  Structural characterization of a Model Gram-ne...  2381.04  \n",
       "2  Fumaroylamino-4,5-epoxymorphinans and related ...   642.56  \n",
       "3  Orvinols with mixed kappa/mu opioid receptor a...   669.64  \n",
       "4  Regioselective opening of myo-inositol orthoes...   685.88  "
      ]
     },
     "execution_count": 11,
     "metadata": {},
     "output_type": "execute_result"
    }
   ],
   "source": [
    "# Get rid of the dollar sign under the COST column\n",
    "df[\"COST\"] = df.COST.str.replace('$', '')\n",
    "df.head()"
   ]
  },
  {
   "cell_type": "code",
   "execution_count": 12,
   "metadata": {},
   "outputs": [
    {
     "data": {
      "text/plain": [
       "PMID/PMCID      object\n",
       "Publisher       object\n",
       "Journaltitle    object\n",
       "Articletitle    object\n",
       "COST            object\n",
       "dtype: object"
      ]
     },
     "execution_count": 12,
     "metadata": {},
     "output_type": "execute_result"
    }
   ],
   "source": [
    "# Dataframe data types\n",
    "df.dtypes"
   ]
  },
  {
   "cell_type": "code",
   "execution_count": 13,
   "metadata": {},
   "outputs": [],
   "source": [
    "# Conver object to float to be able to plot the numerical values\n",
    "df[\"COST\"] = df[\"COST\"].astype(float)"
   ]
  },
  {
   "cell_type": "code",
   "execution_count": 26,
   "metadata": {},
   "outputs": [],
   "source": [
    "# The following number was skewing the data\n",
    "# It was obviously a typo\n",
    "# Very few rows had it, so the call this time was to delete the rows with such values\n",
    "df.drop(df.loc[df.COST == 999999].index, inplace=True)"
   ]
  },
  {
   "cell_type": "code",
   "execution_count": 76,
   "metadata": {},
   "outputs": [
    {
     "data": {
      "text/html": [
       "<div>\n",
       "<style scoped>\n",
       "    .dataframe tbody tr th:only-of-type {\n",
       "        vertical-align: middle;\n",
       "    }\n",
       "\n",
       "    .dataframe tbody tr th {\n",
       "        vertical-align: top;\n",
       "    }\n",
       "\n",
       "    .dataframe thead th {\n",
       "        text-align: right;\n",
       "    }\n",
       "</style>\n",
       "<table border=\"1\" class=\"dataframe\">\n",
       "  <thead>\n",
       "    <tr style=\"text-align: right;\">\n",
       "      <th></th>\n",
       "      <th>PMID/PMCID</th>\n",
       "      <th>Publisher</th>\n",
       "      <th>Journaltitle</th>\n",
       "      <th>Articletitle</th>\n",
       "      <th>COST</th>\n",
       "    </tr>\n",
       "  </thead>\n",
       "  <tbody>\n",
       "    <tr>\n",
       "      <th>1282</th>\n",
       "      <td>3517619</td>\n",
       "      <td>PLoS</td>\n",
       "      <td>Plos one</td>\n",
       "      <td>HCN1 and HCN2 in Rat DRG Neurons: Levels in No...</td>\n",
       "      <td>1001.03</td>\n",
       "    </tr>\n",
       "    <tr>\n",
       "      <th>1283</th>\n",
       "      <td>3498109</td>\n",
       "      <td>PLoS</td>\n",
       "      <td>Plos one</td>\n",
       "      <td>Fetal alcohol exposure and IQ at age 8: Eviden...</td>\n",
       "      <td>1004.15</td>\n",
       "    </tr>\n",
       "    <tr>\n",
       "      <th>1284</th>\n",
       "      <td>3515553</td>\n",
       "      <td>PLoS</td>\n",
       "      <td>Plos one</td>\n",
       "      <td>Vitamin B-12 status during pregnancy and child...</td>\n",
       "      <td>1011.45</td>\n",
       "    </tr>\n",
       "    <tr>\n",
       "      <th>1285</th>\n",
       "      <td>3522679</td>\n",
       "      <td>PLoS</td>\n",
       "      <td>Plos one</td>\n",
       "      <td>Validation of Dual Energy X-ray Absorptiometry...</td>\n",
       "      <td>1011.45</td>\n",
       "    </tr>\n",
       "    <tr>\n",
       "      <th>1286</th>\n",
       "      <td>3485223</td>\n",
       "      <td>PLoS</td>\n",
       "      <td>Plos one</td>\n",
       "      <td>Associations of different phenotypes of wheezi...</td>\n",
       "      <td>1015.73</td>\n",
       "    </tr>\n",
       "  </tbody>\n",
       "</table>\n",
       "</div>"
      ],
      "text/plain": [
       "     PMID/PMCID Publisher Journaltitle  \\\n",
       "1282    3517619      PLoS     Plos one   \n",
       "1283    3498109      PLoS     Plos one   \n",
       "1284    3515553      PLoS     Plos one   \n",
       "1285    3522679      PLoS     Plos one   \n",
       "1286    3485223      PLoS     Plos one   \n",
       "\n",
       "                                           Articletitle     COST  \n",
       "1282  HCN1 and HCN2 in Rat DRG Neurons: Levels in No...  1001.03  \n",
       "1283  Fetal alcohol exposure and IQ at age 8: Eviden...  1004.15  \n",
       "1284  Vitamin B-12 status during pregnancy and child...  1011.45  \n",
       "1285  Validation of Dual Energy X-ray Absorptiometry...  1011.45  \n",
       "1286  Associations of different phenotypes of wheezi...  1015.73  "
      ]
     },
     "execution_count": 76,
     "metadata": {},
     "output_type": "execute_result"
    }
   ],
   "source": [
    "# Select rows with each of the top five journals to evaluate their distribution\n",
    "Plos_one = df[df[\"Journaltitle\"].isin([\"Plos one\"])]\n",
    "Plos_one.head()"
   ]
  },
  {
   "cell_type": "code",
   "execution_count": 77,
   "metadata": {
    "scrolled": true
   },
   "outputs": [
    {
     "name": "stdout",
     "output_type": "stream",
     "text": [
      "count       183.000000\n",
      "mean       1982.253333\n",
      "std       14173.065922\n",
      "min         122.310000\n",
      "25%         850.250000\n",
      "50%         896.990000\n",
      "75%        1040.810000\n",
      "max      192645.000000\n",
      "Name: COST, dtype: float64\n"
     ]
    }
   ],
   "source": [
    "# Use describe to look for outlier\n",
    "# Use describe to get mean, median, and std\n",
    "print(Plos_one[\"COST\"].describe())"
   ]
  },
  {
   "cell_type": "code",
   "execution_count": 78,
   "metadata": {},
   "outputs": [
    {
     "data": {
      "text/plain": [
       "1"
      ]
     },
     "execution_count": 78,
     "metadata": {},
     "output_type": "execute_result"
    }
   ],
   "source": [
    "# The number bellow was present just once\n",
    "# And no journal charges $193K, delete, it was an error. \n",
    "(Plos_one[\"COST\"] == 192645).sum()"
   ]
  },
  {
   "cell_type": "code",
   "execution_count": 79,
   "metadata": {},
   "outputs": [],
   "source": [
    "Plos_one.drop(Plos_one[Plos_one[\"COST\"] == 192645].index, inplace=True)"
   ]
  },
  {
   "cell_type": "code",
   "execution_count": 107,
   "metadata": {},
   "outputs": [
    {
     "data": {
      "text/plain": [
       "count     182.000000\n",
       "mean      934.655824\n",
       "std       201.847589\n",
       "min       122.310000\n",
       "25%       850.125000\n",
       "50%       896.975000\n",
       "75%      1040.737500\n",
       "max      1785.360000\n",
       "Name: COST, dtype: float64"
      ]
     },
     "execution_count": 107,
     "metadata": {},
     "output_type": "execute_result"
    },
    {
     "data": {
      "image/png": "[encoded data removed]",
      "text/plain": [
       "<Figure size 432x288 with 1 Axes>"
      ]
     },
     "metadata": {
      "needs_background": "light"
     },
     "output_type": "display_data"
    }
   ],
   "source": [
    "# plot distribution with histogram\n",
    "ax = Plos_one[\"COST\"].hist()\n",
    "Plos_one[\"COST\"].describe()"
   ]
  },
  {
   "cell_type": "code",
   "execution_count": 108,
   "metadata": {},
   "outputs": [
    {
     "data": {
      "text/html": [
       "<div>\n",
       "<style scoped>\n",
       "    .dataframe tbody tr th:only-of-type {\n",
       "        vertical-align: middle;\n",
       "    }\n",
       "\n",
       "    .dataframe tbody tr th {\n",
       "        vertical-align: top;\n",
       "    }\n",
       "\n",
       "    .dataframe thead th {\n",
       "        text-align: right;\n",
       "    }\n",
       "</style>\n",
       "<table border=\"1\" class=\"dataframe\">\n",
       "  <thead>\n",
       "    <tr style=\"text-align: right;\">\n",
       "      <th></th>\n",
       "      <th>PMID/PMCID</th>\n",
       "      <th>Publisher</th>\n",
       "      <th>Journaltitle</th>\n",
       "      <th>Articletitle</th>\n",
       "      <th>COST</th>\n",
       "    </tr>\n",
       "  </thead>\n",
       "  <tbody>\n",
       "    <tr>\n",
       "      <th>16</th>\n",
       "      <td>22610094</td>\n",
       "      <td>AMBSB</td>\n",
       "      <td>Journal of biological chemistry</td>\n",
       "      <td>Annexin-1 interaction with FPR2/ALX</td>\n",
       "      <td>265.67</td>\n",
       "    </tr>\n",
       "    <tr>\n",
       "      <th>60</th>\n",
       "      <td>PMC3576085</td>\n",
       "      <td>American Soc for Biochemistry and Molecular Bi...</td>\n",
       "      <td>Journal of biological chemistry</td>\n",
       "      <td>Understanding how noncatalytic carbohydrate bi...</td>\n",
       "      <td>1100.00</td>\n",
       "    </tr>\n",
       "    <tr>\n",
       "      <th>61</th>\n",
       "      <td>23239883 PMC3561570</td>\n",
       "      <td>American Society for Biochemistry and Molecula...</td>\n",
       "      <td>Journal of biological chemistry</td>\n",
       "      <td>Molecular architecture and functional analysis...</td>\n",
       "      <td>2259.64</td>\n",
       "    </tr>\n",
       "    <tr>\n",
       "      <th>64</th>\n",
       "      <td>PMCID: PMC3642348</td>\n",
       "      <td>American Society for Biochemistry and Molecula...</td>\n",
       "      <td>Journal of biological chemistry</td>\n",
       "      <td>Human and viral golgi anti-apoptotic protein (...</td>\n",
       "      <td>1019.71</td>\n",
       "    </tr>\n",
       "    <tr>\n",
       "      <th>65</th>\n",
       "      <td>PMID: 22992744  PMC3493908</td>\n",
       "      <td>American Society for Biochemistry and Molecula...</td>\n",
       "      <td>Journal of biological chemistry</td>\n",
       "      <td>Dynamic exchange of myosin VI on endocytic str...</td>\n",
       "      <td>1119.61</td>\n",
       "    </tr>\n",
       "  </tbody>\n",
       "</table>\n",
       "</div>"
      ],
      "text/plain": [
       "                    PMID/PMCID  \\\n",
       "16                    22610094   \n",
       "60                  PMC3576085   \n",
       "61        23239883 PMC3561570    \n",
       "64           PMCID: PMC3642348   \n",
       "65  PMID: 22992744  PMC3493908   \n",
       "\n",
       "                                            Publisher  \\\n",
       "16                                              AMBSB   \n",
       "60  American Soc for Biochemistry and Molecular Bi...   \n",
       "61  American Society for Biochemistry and Molecula...   \n",
       "64  American Society for Biochemistry and Molecula...   \n",
       "65  American Society for Biochemistry and Molecula...   \n",
       "\n",
       "                       Journaltitle  \\\n",
       "16  Journal of biological chemistry   \n",
       "60  Journal of biological chemistry   \n",
       "61  Journal of biological chemistry   \n",
       "64  Journal of biological chemistry   \n",
       "65  Journal of biological chemistry   \n",
       "\n",
       "                                         Articletitle     COST  \n",
       "16                Annexin-1 interaction with FPR2/ALX   265.67  \n",
       "60  Understanding how noncatalytic carbohydrate bi...  1100.00  \n",
       "61  Molecular architecture and functional analysis...  2259.64  \n",
       "64  Human and viral golgi anti-apoptotic protein (...  1019.71  \n",
       "65  Dynamic exchange of myosin VI on endocytic str...  1119.61  "
      ]
     },
     "execution_count": 108,
     "metadata": {},
     "output_type": "execute_result"
    }
   ],
   "source": [
    "Biochem = df[df[\"Journaltitle\"].isin([\"Journal of biological chemistry\"])]\n",
    "Biochem.head()"
   ]
  },
  {
   "cell_type": "code",
   "execution_count": 106,
   "metadata": {},
   "outputs": [
    {
     "data": {
      "text/html": [
       "<div>\n",
       "<style scoped>\n",
       "    .dataframe tbody tr th:only-of-type {\n",
       "        vertical-align: middle;\n",
       "    }\n",
       "\n",
       "    .dataframe tbody tr th {\n",
       "        vertical-align: top;\n",
       "    }\n",
       "\n",
       "    .dataframe thead th {\n",
       "        text-align: right;\n",
       "    }\n",
       "</style>\n",
       "<table border=\"1\" class=\"dataframe\">\n",
       "  <thead>\n",
       "    <tr style=\"text-align: right;\">\n",
       "      <th></th>\n",
       "      <th>COST</th>\n",
       "    </tr>\n",
       "  </thead>\n",
       "  <tbody>\n",
       "    <tr>\n",
       "      <th>count</th>\n",
       "      <td>52.000000</td>\n",
       "    </tr>\n",
       "    <tr>\n",
       "      <th>mean</th>\n",
       "      <td>1423.588462</td>\n",
       "    </tr>\n",
       "    <tr>\n",
       "      <th>std</th>\n",
       "      <td>411.954360</td>\n",
       "    </tr>\n",
       "    <tr>\n",
       "      <th>min</th>\n",
       "      <td>265.670000</td>\n",
       "    </tr>\n",
       "    <tr>\n",
       "      <th>25%</th>\n",
       "      <td>1152.190000</td>\n",
       "    </tr>\n",
       "    <tr>\n",
       "      <th>50%</th>\n",
       "      <td>1301.140000</td>\n",
       "    </tr>\n",
       "    <tr>\n",
       "      <th>75%</th>\n",
       "      <td>1609.822500</td>\n",
       "    </tr>\n",
       "    <tr>\n",
       "      <th>max</th>\n",
       "      <td>2501.070000</td>\n",
       "    </tr>\n",
       "  </tbody>\n",
       "</table>\n",
       "</div>"
      ],
      "text/plain": [
       "              COST\n",
       "count    52.000000\n",
       "mean   1423.588462\n",
       "std     411.954360\n",
       "min     265.670000\n",
       "25%    1152.190000\n",
       "50%    1301.140000\n",
       "75%    1609.822500\n",
       "max    2501.070000"
      ]
     },
     "execution_count": 106,
     "metadata": {},
     "output_type": "execute_result"
    },
    {
     "data": {
      "image/png": "[encoded data removed]",
      "text/plain": [
       "<Figure size 432x288 with 1 Axes>"
      ]
     },
     "metadata": {
      "needs_background": "light"
     },
     "output_type": "display_data"
    }
   ],
   "source": [
    "ax = Biochem[\"COST\"].hist()\n",
    "Biochem.describe()"
   ]
  },
  {
   "cell_type": "code",
   "execution_count": 85,
   "metadata": {},
   "outputs": [],
   "source": [
    "# Explore outliers to see assess if they need deleting\n",
    "#(Biochem[\"COST\"] == 1580.47).sum()"
   ]
  },
  {
   "cell_type": "code",
   "execution_count": 91,
   "metadata": {
    "scrolled": true
   },
   "outputs": [
    {
     "data": {
      "text/html": [
       "<div>\n",
       "<style scoped>\n",
       "    .dataframe tbody tr th:only-of-type {\n",
       "        vertical-align: middle;\n",
       "    }\n",
       "\n",
       "    .dataframe tbody tr th {\n",
       "        vertical-align: top;\n",
       "    }\n",
       "\n",
       "    .dataframe thead th {\n",
       "        text-align: right;\n",
       "    }\n",
       "</style>\n",
       "<table border=\"1\" class=\"dataframe\">\n",
       "  <thead>\n",
       "    <tr style=\"text-align: right;\">\n",
       "      <th></th>\n",
       "      <th>PMID/PMCID</th>\n",
       "      <th>Publisher</th>\n",
       "      <th>Journaltitle</th>\n",
       "      <th>Articletitle</th>\n",
       "      <th>COST</th>\n",
       "    </tr>\n",
       "  </thead>\n",
       "  <tbody>\n",
       "    <tr>\n",
       "      <th>437</th>\n",
       "      <td>23672768</td>\n",
       "      <td>Elseveier Science</td>\n",
       "      <td>Neuroimage</td>\n",
       "      <td>Gearing up for action: attentive tracking dyna...</td>\n",
       "      <td>1758.89</td>\n",
       "    </tr>\n",
       "    <tr>\n",
       "      <th>438</th>\n",
       "      <td>23046981</td>\n",
       "      <td>Elseveier Science</td>\n",
       "      <td>Neuroimage</td>\n",
       "      <td>Good practice for conducting and reporting MEG...</td>\n",
       "      <td>2345.00</td>\n",
       "    </tr>\n",
       "    <tr>\n",
       "      <th>689</th>\n",
       "      <td>PMC3734349\\n</td>\n",
       "      <td>Elsevier</td>\n",
       "      <td>Neuroimage</td>\n",
       "      <td>Connectivity-based neurofeedback: dynamic caus...</td>\n",
       "      <td>1747.16</td>\n",
       "    </tr>\n",
       "    <tr>\n",
       "      <th>690</th>\n",
       "      <td>PMC3734350\\n</td>\n",
       "      <td>Elsevier</td>\n",
       "      <td>Neuroimage</td>\n",
       "      <td>The impact of distractor congruency on stimulu...</td>\n",
       "      <td>1760.94</td>\n",
       "    </tr>\n",
       "    <tr>\n",
       "      <th>691</th>\n",
       "      <td>PMC3734351\\n</td>\n",
       "      <td>Elsevier</td>\n",
       "      <td>Neuroimage</td>\n",
       "      <td>Distinct encoding of risk and value in economi...</td>\n",
       "      <td>1762.69</td>\n",
       "    </tr>\n",
       "  </tbody>\n",
       "</table>\n",
       "</div>"
      ],
      "text/plain": [
       "       PMID/PMCID          Publisher Journaltitle  \\\n",
       "437      23672768  Elseveier Science   Neuroimage   \n",
       "438      23046981  Elseveier Science   Neuroimage   \n",
       "689  PMC3734349\\n           Elsevier   Neuroimage   \n",
       "690  PMC3734350\\n           Elsevier   Neuroimage   \n",
       "691  PMC3734351\\n           Elsevier   Neuroimage   \n",
       "\n",
       "                                          Articletitle     COST  \n",
       "437  Gearing up for action: attentive tracking dyna...  1758.89  \n",
       "438  Good practice for conducting and reporting MEG...  2345.00  \n",
       "689  Connectivity-based neurofeedback: dynamic caus...  1747.16  \n",
       "690  The impact of distractor congruency on stimulu...  1760.94  \n",
       "691  Distinct encoding of risk and value in economi...  1762.69  "
      ]
     },
     "execution_count": 91,
     "metadata": {},
     "output_type": "execute_result"
    }
   ],
   "source": [
    "Neuro = df[df[\"Journaltitle\"].isin([\"Neuroimage\"])]\n",
    "Neuro.head()"
   ]
  },
  {
   "cell_type": "code",
   "execution_count": 105,
   "metadata": {},
   "outputs": [
    {
     "data": {
      "text/plain": [
       "count      29.000000\n",
       "mean     2215.168276\n",
       "std       266.653947\n",
       "min      1747.160000\n",
       "25%      2100.540000\n",
       "50%      2326.430000\n",
       "75%      2396.570000\n",
       "max      2503.340000\n",
       "Name: COST, dtype: float64"
      ]
     },
     "execution_count": 105,
     "metadata": {},
     "output_type": "execute_result"
    },
    {
     "data": {
      "image/png": "[encoded data removed]",
      "text/plain": [
       "<Figure size 432x288 with 1 Axes>"
      ]
     },
     "metadata": {
      "needs_background": "light"
     },
     "output_type": "display_data"
    }
   ],
   "source": [
    "ax = Neuro[\"COST\"].hist()\n",
    "Neuro[\"COST\"].describe()"
   ]
  },
  {
   "cell_type": "code",
   "execution_count": 94,
   "metadata": {},
   "outputs": [
    {
     "data": {
      "text/html": [
       "<div>\n",
       "<style scoped>\n",
       "    .dataframe tbody tr th:only-of-type {\n",
       "        vertical-align: middle;\n",
       "    }\n",
       "\n",
       "    .dataframe tbody tr th {\n",
       "        vertical-align: top;\n",
       "    }\n",
       "\n",
       "    .dataframe thead th {\n",
       "        text-align: right;\n",
       "    }\n",
       "</style>\n",
       "<table border=\"1\" class=\"dataframe\">\n",
       "  <thead>\n",
       "    <tr style=\"text-align: right;\">\n",
       "      <th></th>\n",
       "      <th>PMID/PMCID</th>\n",
       "      <th>Publisher</th>\n",
       "      <th>Journaltitle</th>\n",
       "      <th>Articletitle</th>\n",
       "      <th>COST</th>\n",
       "    </tr>\n",
       "  </thead>\n",
       "  <tbody>\n",
       "    <tr>\n",
       "      <th>1300</th>\n",
       "      <td>PMC3597521</td>\n",
       "      <td>PLOS</td>\n",
       "      <td>Plos pathogens</td>\n",
       "      <td>Th2 Cell-intrinsic Hypo-responsiveness determi...</td>\n",
       "      <td>1343.73</td>\n",
       "    </tr>\n",
       "    <tr>\n",
       "      <th>1301</th>\n",
       "      <td>PMC3798605</td>\n",
       "      <td>PLOS</td>\n",
       "      <td>Plos pathogens</td>\n",
       "      <td>Independent pathways can transduce the life-cy...</td>\n",
       "      <td>1438.45</td>\n",
       "    </tr>\n",
       "    <tr>\n",
       "      <th>1583</th>\n",
       "      <td>PMCID:\\n    PMC3486875\\n</td>\n",
       "      <td>Public Library of Science</td>\n",
       "      <td>Plos pathogens</td>\n",
       "      <td>Histone H1 plays a role in heterochromatin for...</td>\n",
       "      <td>1254.02</td>\n",
       "    </tr>\n",
       "    <tr>\n",
       "      <th>1584</th>\n",
       "      <td>23326235</td>\n",
       "      <td>Public Library of Science</td>\n",
       "      <td>Plos pathogens</td>\n",
       "      <td>Schmallenberg virus pathogenesis, tropism and ...</td>\n",
       "      <td>1397.00</td>\n",
       "    </tr>\n",
       "    <tr>\n",
       "      <th>1585</th>\n",
       "      <td>21483485</td>\n",
       "      <td>Public Library of Science</td>\n",
       "      <td>Plos pathogens</td>\n",
       "      <td>Lung adenocarcinoma originates from retrovirus...</td>\n",
       "      <td>1404.00</td>\n",
       "    </tr>\n",
       "  </tbody>\n",
       "</table>\n",
       "</div>"
      ],
      "text/plain": [
       "                    PMID/PMCID                  Publisher    Journaltitle  \\\n",
       "1300                PMC3597521                       PLOS  Plos pathogens   \n",
       "1301                PMC3798605                       PLOS  Plos pathogens   \n",
       "1583  PMCID:\\n    PMC3486875\\n  Public Library of Science  Plos pathogens   \n",
       "1584                  23326235  Public Library of Science  Plos pathogens   \n",
       "1585                  21483485  Public Library of Science  Plos pathogens   \n",
       "\n",
       "                                           Articletitle     COST  \n",
       "1300  Th2 Cell-intrinsic Hypo-responsiveness determi...  1343.73  \n",
       "1301  Independent pathways can transduce the life-cy...  1438.45  \n",
       "1583  Histone H1 plays a role in heterochromatin for...  1254.02  \n",
       "1584  Schmallenberg virus pathogenesis, tropism and ...  1397.00  \n",
       "1585  Lung adenocarcinoma originates from retrovirus...  1404.00  "
      ]
     },
     "execution_count": 94,
     "metadata": {},
     "output_type": "execute_result"
    }
   ],
   "source": [
    "Patho = df[df[\"Journaltitle\"].isin([\"Plos pathogens\"])]\n",
    "Patho.head()"
   ]
  },
  {
   "cell_type": "code",
   "execution_count": 104,
   "metadata": {},
   "outputs": [
    {
     "data": {
      "text/plain": [
       "count      22.000000\n",
       "mean     1572.866818\n",
       "std       161.780891\n",
       "min      1254.020000\n",
       "25%      1440.000000\n",
       "50%      1600.250000\n",
       "75%      1732.190000\n",
       "max      1784.650000\n",
       "Name: COST, dtype: float64"
      ]
     },
     "execution_count": 104,
     "metadata": {},
     "output_type": "execute_result"
    },
    {
     "data": {
      "image/png": "[encoded data removed]",
      "text/plain": [
       "<Figure size 432x288 with 1 Axes>"
      ]
     },
     "metadata": {
      "needs_background": "light"
     },
     "output_type": "display_data"
    }
   ],
   "source": [
    "ax = Patho[\"COST\"].hist()\n",
    "Patho[\"COST\"].describe()"
   ]
  },
  {
   "cell_type": "code",
   "execution_count": 95,
   "metadata": {},
   "outputs": [
    {
     "data": {
      "text/html": [
       "<div>\n",
       "<style scoped>\n",
       "    .dataframe tbody tr th:only-of-type {\n",
       "        vertical-align: middle;\n",
       "    }\n",
       "\n",
       "    .dataframe tbody tr th {\n",
       "        vertical-align: top;\n",
       "    }\n",
       "\n",
       "    .dataframe thead th {\n",
       "        text-align: right;\n",
       "    }\n",
       "</style>\n",
       "<table border=\"1\" class=\"dataframe\">\n",
       "  <thead>\n",
       "    <tr style=\"text-align: right;\">\n",
       "      <th></th>\n",
       "      <th>PMID/PMCID</th>\n",
       "      <th>Publisher</th>\n",
       "      <th>Journaltitle</th>\n",
       "      <th>Articletitle</th>\n",
       "      <th>COST</th>\n",
       "    </tr>\n",
       "  </thead>\n",
       "  <tbody>\n",
       "    <tr>\n",
       "      <th>1279</th>\n",
       "      <td>PMC3681601</td>\n",
       "      <td>PLoS</td>\n",
       "      <td>Plos genetics</td>\n",
       "      <td>Meiosis-specific stable binding of Augmin to a...</td>\n",
       "      <td>1494.42</td>\n",
       "    </tr>\n",
       "    <tr>\n",
       "      <th>1280</th>\n",
       "      <td>3715439</td>\n",
       "      <td>Plos</td>\n",
       "      <td>Plos genetics</td>\n",
       "      <td>Strabismus promotes recruitment and degradatio...</td>\n",
       "      <td>1761.48</td>\n",
       "    </tr>\n",
       "    <tr>\n",
       "      <th>1302</th>\n",
       "      <td>PMCID:PMC3715547)</td>\n",
       "      <td>PLoS (Public Library of Science)</td>\n",
       "      <td>Plos genetics</td>\n",
       "      <td>Trans-ancestral Studies Fine Map the SLE-Susce...</td>\n",
       "      <td>1774.83</td>\n",
       "    </tr>\n",
       "    <tr>\n",
       "      <th>1306</th>\n",
       "      <td>PMC3527205</td>\n",
       "      <td>PLoS Public Library of Science</td>\n",
       "      <td>Plos genetics</td>\n",
       "      <td>Genes contributing to pain sensitivity in the ...</td>\n",
       "      <td>1676.06</td>\n",
       "    </tr>\n",
       "    <tr>\n",
       "      <th>1368</th>\n",
       "      <td>PMC3521700</td>\n",
       "      <td>Public Library of Science</td>\n",
       "      <td>Plos genetics</td>\n",
       "      <td>A genome-wide RNAi screen reveals MAP kinase p...</td>\n",
       "      <td>1394.05</td>\n",
       "    </tr>\n",
       "  </tbody>\n",
       "</table>\n",
       "</div>"
      ],
      "text/plain": [
       "             PMID/PMCID                         Publisher   Journaltitle  \\\n",
       "1279         PMC3681601                              PLoS  Plos genetics   \n",
       "1280            3715439                              Plos  Plos genetics   \n",
       "1302  PMCID:PMC3715547)  PLoS (Public Library of Science)  Plos genetics   \n",
       "1306         PMC3527205    PLoS Public Library of Science  Plos genetics   \n",
       "1368        PMC3521700          Public Library of Science  Plos genetics   \n",
       "\n",
       "                                           Articletitle     COST  \n",
       "1279  Meiosis-specific stable binding of Augmin to a...  1494.42  \n",
       "1280  Strabismus promotes recruitment and degradatio...  1761.48  \n",
       "1302  Trans-ancestral Studies Fine Map the SLE-Susce...  1774.83  \n",
       "1306  Genes contributing to pain sensitivity in the ...  1676.06  \n",
       "1368  A genome-wide RNAi screen reveals MAP kinase p...  1394.05  "
      ]
     },
     "execution_count": 95,
     "metadata": {},
     "output_type": "execute_result"
    }
   ],
   "source": [
    "PlosGen = df[df[\"Journaltitle\"].isin([\"Plos genetics\"])]\n",
    "PlosGen.head()"
   ]
  },
  {
   "cell_type": "code",
   "execution_count": 103,
   "metadata": {},
   "outputs": [
    {
     "data": {
      "text/plain": [
       "count      22.000000\n",
       "mean     1643.110909\n",
       "std       153.366825\n",
       "min      1394.050000\n",
       "25%      1465.747500\n",
       "50%      1712.730000\n",
       "75%      1770.195000\n",
       "max      1809.510000\n",
       "Name: COST, dtype: float64"
      ]
     },
     "execution_count": 103,
     "metadata": {},
     "output_type": "execute_result"
    },
    {
     "data": {
      "image/png": "[encoded data removed]",
      "text/plain": [
       "<Figure size 432x288 with 1 Axes>"
      ]
     },
     "metadata": {
      "needs_background": "light"
     },
     "output_type": "display_data"
    }
   ],
   "source": [
    "ax = PlosGen[\"COST\"].hist()\n",
    "PlosGen[\"COST\"].describe()"
   ]
  },
  {
   "cell_type": "code",
   "execution_count": null,
   "metadata": {},
   "outputs": [],
   "source": []
  }
 ],
 "metadata": {
  "kernelspec": {
   "display_name": "Python 3",
   "language": "python",
   "name": "python3"
  },
  "language_info": {
   "codemirror_mode": {
    "name": "ipython",
    "version": 3
   },
   "file_extension": ".py",
   "mimetype": "text/x-python",
   "name": "python",
   "nbconvert_exporter": "python",
   "pygments_lexer": "ipython3",
   "version": "3.7.3"
  }
 },
 "nbformat": 4,
 "nbformat_minor": 2
}
