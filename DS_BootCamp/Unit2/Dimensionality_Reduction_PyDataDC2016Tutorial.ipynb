{
 "cells": [
  {
   "cell_type": "code",
   "execution_count": 12,
   "metadata": {},
   "outputs": [],
   "source": [
    "import pandas as pd\n"
   ]
  },
  {
   "cell_type": "markdown",
   "metadata": {},
   "source": [
    "##  1. Percent Missing Values\n",
    "\n",
    "* Drop variables with high % of missing vallues\n",
    "* Create binary indicators to identivy variables\n",
    "* Visualize variables with high % of missing values\n",
    "\n",
    "Note : Start with a treshold of 95% of missing values"
   ]
  },
  {
   "cell_type": "code",
   "execution_count": 4,
   "metadata": {},
   "outputs": [],
   "source": [
    "#desc = x.describe().T"
   ]
  },
  {
   "cell_type": "code",
   "execution_count": 5,
   "metadata": {},
   "outputs": [],
   "source": [
    "# Percent missing\n",
    "# desc['missing %'] = 1 - (desc['count'] / len(x))"
   ]
  },
  {
   "cell_type": "markdown",
   "metadata": {},
   "source": [
    "## 2. Amount of variation\n",
    "\n",
    "* Drop/review variables that have very low variance\n",
    "* Either standarize all variables or use standard deviation to account for variables with \n",
    "  different scales\n",
    "* Drop variables with zero variation (unary)\n",
    "\n",
    "Note: Run a graph of the stard deviations and look for zero values, drop columns and rows.\n"
   ]
  },
  {
   "cell_type": "markdown",
   "metadata": {},
   "source": [
    "## 3. Pairwise Correlation\n",
    "\n",
    "* Many variables are oftern correlated with each other, redundant.\n",
    "* Keeping one will help reduce dimensionality\n",
    "* Which one to keep? The one with the highest correlation with target variable\n",
    "\n",
    "Note: Start with a correlation coefficient of 0.65\n"
   ]
  },
  {
   "cell_type": "code",
   "execution_count": 7,
   "metadata": {},
   "outputs": [],
   "source": [
    "# Create correlation matrix among independent variables and look for coefficients of 0.65\n",
    "#corrMatrix = x.corr()"
   ]
  },
  {
   "cell_type": "code",
   "execution_count": 8,
   "metadata": {},
   "outputs": [],
   "source": [
    "#corrWithDep = \n",
    "#for var in allVars:\n",
    "    #corrWithDep.append(abs(y.corr(x[var])))"
   ]
  },
  {
   "cell_type": "code",
   "execution_count": 9,
   "metadata": {},
   "outputs": [
    {
     "ename": "SyntaxError",
     "evalue": "invalid syntax (<ipython-input-9-6e9c7c5c37e7>, line 10)",
     "output_type": "error",
     "traceback": [
      "\u001b[0;36m  File \u001b[0;32m\"<ipython-input-9-6e9c7c5c37e7>\"\u001b[0;36m, line \u001b[0;32m10\u001b[0m\n\u001b[0;31m    if abs(corrMatrix[col][i]) == 1.0 and col <> corrMatrix.keys()[i]:\u001b[0m\n\u001b[0m                                               ^\u001b[0m\n\u001b[0;31mSyntaxError\u001b[0m\u001b[0;31m:\u001b[0m invalid syntax\n"
     ]
    }
   ],
   "source": [
    "# for each column in the corr matrix\n",
    "for col in corrMatrix:\n",
    "    if col in corrMatrix.keys():\n",
    "        thisCol = []\n",
    "        thisVars = []\n",
    "        \n",
    "        #Store the corr with the dep var for fields that are highly correlated with each other\n",
    "        for i in range(len(corrMatrix)):\n",
    "            \n",
    "            if abs(corrMatrix[col][i]) == 1.0 and col <> corrMatrix.keys()[i]:\n",
    "                thisCorr = 0\n",
    "            else:\n",
    "                thisCorr = (1 if abs(corrMatrix[col][i]) > corrTol else -1) * abs(temp[corrMatrix.keys()[i]])\n",
    "                "
   ]
  },
  {
   "cell_type": "markdown",
   "metadata": {},
   "source": [
    "## 4. Multicolinearity\n",
    "\n",
    "* When tow or more variables are highly correlated with each other\n",
    "* Dropping one or more variables should help reduce dimensionality without a substantial loss of informmation\n",
    "* Which variable(s) to drop? Use Condition Index\n",
    "\n",
    "Note: Start with Condition Index of 30"
   ]
  }
 ],
 "metadata": {
  "kernelspec": {
   "display_name": "Python 3",
   "language": "python",
   "name": "python3"
  },
  "language_info": {
   "codemirror_mode": {
    "name": "ipython",
    "version": 3
   },
   "file_extension": ".py",
   "mimetype": "text/x-python",
   "name": "python",
   "nbconvert_exporter": "python",
   "pygments_lexer": "ipython3",
   "version": "3.7.3"
  }
 },
 "nbformat": 4,
 "nbformat_minor": 2
}
